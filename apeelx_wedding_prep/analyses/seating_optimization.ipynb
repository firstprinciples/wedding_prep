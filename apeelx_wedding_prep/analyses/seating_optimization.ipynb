{
 "cells": [
  {
   "cell_type": "code",
   "execution_count": 1,
   "metadata": {},
   "outputs": [],
   "source": [
    "import pandas as pd\n",
    "import matplotlib.pyplot as plt\n",
    "import networkx as nx\n",
    "from tqdm import tqdm\n",
    "from gurobipy import Model, GRB, quicksum"
   ]
  },
  {
   "cell_type": "code",
   "execution_count": 2,
   "metadata": {},
   "outputs": [],
   "source": [
    "relationship_mtx = pd.read_csv('../data/raw/Wedding Guest Network Data - Connection Matrix.csv', index_col=0)\n",
    "constraint_mtx = pd.read_csv('../data/raw/Wedding Guest Network Data - Seating Constraints.csv', index_col=0)"
   ]
  },
  {
   "cell_type": "code",
   "execution_count": 4,
   "metadata": {},
   "outputs": [],
   "source": [
    "constraint_mtx.fillna(0, inplace=True)"
   ]
  },
  {
   "cell_type": "code",
   "execution_count": 5,
   "metadata": {},
   "outputs": [
    {
     "data": {
      "text/plain": [
       "True"
      ]
     },
     "execution_count": 5,
     "metadata": {},
     "output_type": "execute_result"
    }
   ],
   "source": [
    "all(constraint_mtx.columns == relationship_mtx.columns) and all(constraint_mtx.index == relationship_mtx.index) and all(constraint_mtx.index == constraint_mtx.columns)"
   ]
  },
  {
   "cell_type": "code",
   "execution_count": 6,
   "metadata": {},
   "outputs": [
    {
     "data": {
      "image/png": "[encoded data removed]",
      "text/plain": [
       "<Figure size 432x288 with 1 Axes>"
      ]
     },
     "metadata": {
      "needs_background": "light"
     },
     "output_type": "display_data"
    },
    {
     "data": {
      "image/png": "[encoded data removed]",
      "text/plain": [
       "<Figure size 432x288 with 1 Axes>"
      ]
     },
     "metadata": {
      "needs_background": "light"
     },
     "output_type": "display_data"
    }
   ],
   "source": [
    "plt.rcParams['figure.figsize'] = (12, 12)\n",
    "plt.rcParams['font.size'] = 15\n",
    "plt.imshow(relationship_mtx.values, cmap='Blues', interpolation='nearest')\n",
    "plt.show()\n",
    "\n",
    "plt.imshow(constraint_mtx.values, cmap='bwr', interpolation='nearest')\n",
    "plt.show()"
   ]
  },
  {
   "cell_type": "code",
   "execution_count": 8,
   "metadata": {},
   "outputs": [],
   "source": [
    "guest_list = relationship_mtx.index.values.tolist()"
   ]
  },
  {
   "cell_type": "code",
   "execution_count": 9,
   "metadata": {},
   "outputs": [
    {
     "data": {
      "text/plain": [
       "175"
      ]
     },
     "execution_count": 9,
     "metadata": {},
     "output_type": "execute_result"
    }
   ],
   "source": [
    "len(guest_list)"
   ]
  },
  {
   "cell_type": "code",
   "execution_count": 10,
   "metadata": {},
   "outputs": [],
   "source": [
    "for g in guest_list:\n",
    "    for gp in guest_list:\n",
    "        if gp == g:\n",
    "            continue\n",
    "\n",
    "        if relationship_mtx.loc[g, gp] != relationship_mtx.loc[gp, g]:\n",
    "            print(g)\n",
    "            print(gp)\n",
    "\n",
    "        if constraint_mtx.loc[g, gp] != constraint_mtx.loc[gp, g]:\n",
    "            print(g)\n",
    "            print(gp)"
   ]
  },
  {
   "cell_type": "code",
   "execution_count": 11,
   "metadata": {},
   "outputs": [],
   "source": [
    "tables = {\n",
    "    f'Table {t+1}': 8 for t in range(len(guest_list)//8 + 1)\n",
    "}"
   ]
  },
  {
   "cell_type": "code",
   "execution_count": 12,
   "metadata": {},
   "outputs": [
    {
     "name": "stdout",
     "output_type": "stream",
     "text": [
      "Restricted license - for non-production use only - expires 2023-10-25\n"
     ]
    }
   ],
   "source": [
    "seating_model = Model()"
   ]
  },
  {
   "cell_type": "code",
   "execution_count": 13,
   "metadata": {},
   "outputs": [],
   "source": [
    "y = seating_model.addVars(guest_list, tables.keys(), vtype=GRB.BINARY, name=\"y\")"
   ]
  },
  {
   "cell_type": "code",
   "execution_count": 14,
   "metadata": {},
   "outputs": [],
   "source": [
    "not_seated_together_list = []\n",
    "for i, g in enumerate(guest_list):\n",
    "    for gp in guest_list[i+1:]:\n",
    "\n",
    "        if constraint_mtx.loc[g, gp] == 1:\n",
    "            relationship_mtx.loc[g, gp] *= 100\n",
    "        elif constraint_mtx.loc[g, gp] == -1:\n",
    "            not_seated_together_list.append((g, gp))"
   ]
  },
  {
   "cell_type": "code",
   "execution_count": 15,
   "metadata": {},
   "outputs": [
    {
     "data": {
      "text/plain": [
       "[('Maggie Dunn', 'James Rogers')]"
      ]
     },
     "execution_count": 15,
     "metadata": {},
     "output_type": "execute_result"
    }
   ],
   "source": [
    "not_seated_together_list"
   ]
  },
  {
   "cell_type": "code",
   "execution_count": 16,
   "metadata": {},
   "outputs": [
    {
     "name": "stderr",
     "output_type": "stream",
     "text": [
      "100%|██████████| 175/175 [00:16<00:00, 10.87it/s]\n"
     ]
    }
   ],
   "source": [
    "seating_model.setObjective(\n",
    "    quicksum(\n",
    "        quicksum(\n",
    "            quicksum(\n",
    "                relationship_mtx.loc[g, gp] * y[(g, table)] * y[(gp, table)] \\\n",
    "                    for table in tables.keys()) \\\n",
    "                for gp in guest_list[i+1:]) \\\n",
    "            for i, g in tqdm(enumerate(guest_list), total=len(guest_list))\n",
    "    )\n",
    ")"
   ]
  },
  {
   "cell_type": "code",
   "execution_count": 17,
   "metadata": {},
   "outputs": [
    {
     "data": {
      "text/plain": [
       "{('Table 1', 8): <gurobi.Constr *Awaiting Model Update*>,\n",
       " ('Table 2', 8): <gurobi.Constr *Awaiting Model Update*>,\n",
       " ('Table 3', 8): <gurobi.Constr *Awaiting Model Update*>,\n",
       " ('Table 4', 8): <gurobi.Constr *Awaiting Model Update*>,\n",
       " ('Table 5', 8): <gurobi.Constr *Awaiting Model Update*>,\n",
       " ('Table 6', 8): <gurobi.Constr *Awaiting Model Update*>,\n",
       " ('Table 7', 8): <gurobi.Constr *Awaiting Model Update*>,\n",
       " ('Table 8', 8): <gurobi.Constr *Awaiting Model Update*>,\n",
       " ('Table 9', 8): <gurobi.Constr *Awaiting Model Update*>,\n",
       " ('Table 10', 8): <gurobi.Constr *Awaiting Model Update*>,\n",
       " ('Table 11', 8): <gurobi.Constr *Awaiting Model Update*>,\n",
       " ('Table 12', 8): <gurobi.Constr *Awaiting Model Update*>,\n",
       " ('Table 13', 8): <gurobi.Constr *Awaiting Model Update*>,\n",
       " ('Table 14', 8): <gurobi.Constr *Awaiting Model Update*>,\n",
       " ('Table 15', 8): <gurobi.Constr *Awaiting Model Update*>,\n",
       " ('Table 16', 8): <gurobi.Constr *Awaiting Model Update*>,\n",
       " ('Table 17', 8): <gurobi.Constr *Awaiting Model Update*>,\n",
       " ('Table 18', 8): <gurobi.Constr *Awaiting Model Update*>,\n",
       " ('Table 19', 8): <gurobi.Constr *Awaiting Model Update*>,\n",
       " ('Table 20', 8): <gurobi.Constr *Awaiting Model Update*>,\n",
       " ('Table 21', 8): <gurobi.Constr *Awaiting Model Update*>,\n",
       " ('Table 22', 8): <gurobi.Constr *Awaiting Model Update*>}"
      ]
     },
     "execution_count": 17,
     "metadata": {},
     "output_type": "execute_result"
    }
   ],
   "source": [
    "seating_model.addConstrs(quicksum(y[(g, table)] for g in guest_list) <= max_seats for table, max_seats in tables.items())"
   ]
  },
  {
   "cell_type": "code",
   "execution_count": 18,
   "metadata": {},
   "outputs": [
    {
     "data": {
      "text/plain": [
       "{('Table 1',\n",
       "  'Maggie Dunn',\n",
       "  'James Rogers'): <gurobi.Constr *Awaiting Model Update*>,\n",
       " ('Table 2',\n",
       "  'Maggie Dunn',\n",
       "  'James Rogers'): <gurobi.Constr *Awaiting Model Update*>,\n",
       " ('Table 3',\n",
       "  'Maggie Dunn',\n",
       "  'James Rogers'): <gurobi.Constr *Awaiting Model Update*>,\n",
       " ('Table 4',\n",
       "  'Maggie Dunn',\n",
       "  'James Rogers'): <gurobi.Constr *Awaiting Model Update*>,\n",
       " ('Table 5',\n",
       "  'Maggie Dunn',\n",
       "  'James Rogers'): <gurobi.Constr *Awaiting Model Update*>,\n",
       " ('Table 6',\n",
       "  'Maggie Dunn',\n",
       "  'James Rogers'): <gurobi.Constr *Awaiting Model Update*>,\n",
       " ('Table 7',\n",
       "  'Maggie Dunn',\n",
       "  'James Rogers'): <gurobi.Constr *Awaiting Model Update*>,\n",
       " ('Table 8',\n",
       "  'Maggie Dunn',\n",
       "  'James Rogers'): <gurobi.Constr *Awaiting Model Update*>,\n",
       " ('Table 9',\n",
       "  'Maggie Dunn',\n",
       "  'James Rogers'): <gurobi.Constr *Awaiting Model Update*>,\n",
       " ('Table 10',\n",
       "  'Maggie Dunn',\n",
       "  'James Rogers'): <gurobi.Constr *Awaiting Model Update*>,\n",
       " ('Table 11',\n",
       "  'Maggie Dunn',\n",
       "  'James Rogers'): <gurobi.Constr *Awaiting Model Update*>,\n",
       " ('Table 12',\n",
       "  'Maggie Dunn',\n",
       "  'James Rogers'): <gurobi.Constr *Awaiting Model Update*>,\n",
       " ('Table 13',\n",
       "  'Maggie Dunn',\n",
       "  'James Rogers'): <gurobi.Constr *Awaiting Model Update*>,\n",
       " ('Table 14',\n",
       "  'Maggie Dunn',\n",
       "  'James Rogers'): <gurobi.Constr *Awaiting Model Update*>,\n",
       " ('Table 15',\n",
       "  'Maggie Dunn',\n",
       "  'James Rogers'): <gurobi.Constr *Awaiting Model Update*>,\n",
       " ('Table 16',\n",
       "  'Maggie Dunn',\n",
       "  'James Rogers'): <gurobi.Constr *Awaiting Model Update*>,\n",
       " ('Table 17',\n",
       "  'Maggie Dunn',\n",
       "  'James Rogers'): <gurobi.Constr *Awaiting Model Update*>,\n",
       " ('Table 18',\n",
       "  'Maggie Dunn',\n",
       "  'James Rogers'): <gurobi.Constr *Awaiting Model Update*>,\n",
       " ('Table 19',\n",
       "  'Maggie Dunn',\n",
       "  'James Rogers'): <gurobi.Constr *Awaiting Model Update*>,\n",
       " ('Table 20',\n",
       "  'Maggie Dunn',\n",
       "  'James Rogers'): <gurobi.Constr *Awaiting Model Update*>,\n",
       " ('Table 21',\n",
       "  'Maggie Dunn',\n",
       "  'James Rogers'): <gurobi.Constr *Awaiting Model Update*>,\n",
       " ('Table 22',\n",
       "  'Maggie Dunn',\n",
       "  'James Rogers'): <gurobi.Constr *Awaiting Model Update*>}"
      ]
     },
     "execution_count": 18,
     "metadata": {},
     "output_type": "execute_result"
    }
   ],
   "source": [
    "seating_model.addConstrs(y[g, table] + y[gp, table] <= 1 for table in tables.keys() for g, gp in not_seated_together_list)"
   ]
  },
  {
   "cell_type": "code",
   "execution_count": 19,
   "metadata": {},
   "outputs": [
    {
     "data": {
      "text/plain": [
       "{'Richard Pattison': <gurobi.Constr *Awaiting Model Update*>,\n",
       " 'Kathryn Russell': <gurobi.Constr *Awaiting Model Update*>,\n",
       " 'Tim Balzer': <gurobi.Constr *Awaiting Model Update*>,\n",
       " 'Mac Pattison': <gurobi.Constr *Awaiting Model Update*>,\n",
       " 'Ali Pattison': <gurobi.Constr *Awaiting Model Update*>,\n",
       " 'Ella Pattison': <gurobi.Constr *Awaiting Model Update*>,\n",
       " 'Mary Pattison': <gurobi.Constr *Awaiting Model Update*>,\n",
       " 'William Pattison': <gurobi.Constr *Awaiting Model Update*>,\n",
       " 'Wally Pattison': <gurobi.Constr *Awaiting Model Update*>,\n",
       " 'Holly Pattison': <gurobi.Constr *Awaiting Model Update*>,\n",
       " 'Daryl Bammerlin': <gurobi.Constr *Awaiting Model Update*>,\n",
       " 'Molly Bammerlin': <gurobi.Constr *Awaiting Model Update*>,\n",
       " 'Olivia Bammerlin': <gurobi.Constr *Awaiting Model Update*>,\n",
       " 'Harper Bammerlin': <gurobi.Constr *Awaiting Model Update*>,\n",
       " 'Austin Giangeruso': <gurobi.Constr *Awaiting Model Update*>,\n",
       " 'Mary Grace Pattison': <gurobi.Constr *Awaiting Model Update*>,\n",
       " 'Troy Nguyen': <gurobi.Constr *Awaiting Model Update*>,\n",
       " 'Mary Balzer': <gurobi.Constr *Awaiting Model Update*>,\n",
       " 'Max Balzer': <gurobi.Constr *Awaiting Model Update*>,\n",
       " 'Devon Tucker': <gurobi.Constr *Awaiting Model Update*>,\n",
       " 'Genevieve Geoghan': <gurobi.Constr *Awaiting Model Update*>,\n",
       " 'Jake Bottiglieri': <gurobi.Constr *Awaiting Model Update*>,\n",
       " 'Jim Geoghan': <gurobi.Constr *Awaiting Model Update*>,\n",
       " 'Annie Geoghan': <gurobi.Constr *Awaiting Model Update*>,\n",
       " 'Maggie Dunn': <gurobi.Constr *Awaiting Model Update*>,\n",
       " 'Mark Roper': <gurobi.Constr *Awaiting Model Update*>,\n",
       " 'Debbie Roper': <gurobi.Constr *Awaiting Model Update*>,\n",
       " 'Caroline Pinkey': <gurobi.Constr *Awaiting Model Update*>,\n",
       " 'Gordon Carey': <gurobi.Constr *Awaiting Model Update*>,\n",
       " 'Tracy Carey': <gurobi.Constr *Awaiting Model Update*>,\n",
       " 'Sam Ingraffia': <gurobi.Constr *Awaiting Model Update*>,\n",
       " 'Maggie McGinley': <gurobi.Constr *Awaiting Model Update*>,\n",
       " 'Abby Nicholson': <gurobi.Constr *Awaiting Model Update*>,\n",
       " 'Sam Nicholson': <gurobi.Constr *Awaiting Model Update*>,\n",
       " 'Paul Malandra': <gurobi.Constr *Awaiting Model Update*>,\n",
       " 'Saranna Soroka': <gurobi.Constr *Awaiting Model Update*>,\n",
       " 'Astrid Wettstein': <gurobi.Constr *Awaiting Model Update*>,\n",
       " 'Molly Hamrick': <gurobi.Constr *Awaiting Model Update*>,\n",
       " 'Jillian Fong': <gurobi.Constr *Awaiting Model Update*>,\n",
       " 'Aaron Hoogstraten': <gurobi.Constr *Awaiting Model Update*>,\n",
       " 'Rich Lane': <gurobi.Constr *Awaiting Model Update*>,\n",
       " 'Janet Lane': <gurobi.Constr *Awaiting Model Update*>,\n",
       " 'Lauren Friedman': <gurobi.Constr *Awaiting Model Update*>,\n",
       " 'Pepe Daluiso': <gurobi.Constr *Awaiting Model Update*>,\n",
       " 'Sloane Fowkes': <gurobi.Constr *Awaiting Model Update*>,\n",
       " 'Flo Fowkes': <gurobi.Constr *Awaiting Model Update*>,\n",
       " 'Nick Baltaxe': <gurobi.Constr *Awaiting Model Update*>,\n",
       " 'Cameron Berkowitz': <gurobi.Constr *Awaiting Model Update*>,\n",
       " 'Johan Ahlgren': <gurobi.Constr *Awaiting Model Update*>,\n",
       " 'Anneli Ahlgren': <gurobi.Constr *Awaiting Model Update*>,\n",
       " 'Ellen Ahlgren': <gurobi.Constr *Awaiting Model Update*>,\n",
       " 'Trish Davis': <gurobi.Constr *Awaiting Model Update*>,\n",
       " 'Leslie Carothers': <gurobi.Constr *Awaiting Model Update*>,\n",
       " 'Jukka Aromaa': <gurobi.Constr *Awaiting Model Update*>,\n",
       " 'Robby Mazza': <gurobi.Constr *Awaiting Model Update*>,\n",
       " 'John Mazza': <gurobi.Constr *Awaiting Model Update*>,\n",
       " 'Lindsay Coolidge': <gurobi.Constr *Awaiting Model Update*>,\n",
       " 'Charlie Coolidge': <gurobi.Constr *Awaiting Model Update*>,\n",
       " 'Caroline Coolidge': <gurobi.Constr *Awaiting Model Update*>,\n",
       " 'Tori Iannuzzi': <gurobi.Constr *Awaiting Model Update*>,\n",
       " 'Matt Bultman': <gurobi.Constr *Awaiting Model Update*>,\n",
       " 'Mallory Chandler': <gurobi.Constr *Awaiting Model Update*>,\n",
       " 'Hunter Sullivan': <gurobi.Constr *Awaiting Model Update*>,\n",
       " 'Pat Pattison': <gurobi.Constr *Awaiting Model Update*>,\n",
       " 'Marie Pattison': <gurobi.Constr *Awaiting Model Update*>,\n",
       " 'Christie Ranges': <gurobi.Constr *Awaiting Model Update*>,\n",
       " 'Suzie Campen': <gurobi.Constr *Awaiting Model Update*>,\n",
       " 'Tim Campen': <gurobi.Constr *Awaiting Model Update*>,\n",
       " 'John Russell': <gurobi.Constr *Awaiting Model Update*>,\n",
       " 'Shizu Russell': <gurobi.Constr *Awaiting Model Update*>,\n",
       " 'Nina Russell': <gurobi.Constr *Awaiting Model Update*>,\n",
       " 'Matt Gaudioso': <gurobi.Constr *Awaiting Model Update*>,\n",
       " 'Savannah Rivers': <gurobi.Constr *Awaiting Model Update*>,\n",
       " 'Sara Forsyth': <gurobi.Constr *Awaiting Model Update*>,\n",
       " 'John Forsyth': <gurobi.Constr *Awaiting Model Update*>,\n",
       " 'Andrew Campen': <gurobi.Constr *Awaiting Model Update*>,\n",
       " 'Mary Campen': <gurobi.Constr *Awaiting Model Update*>,\n",
       " 'Mekaleya Fekade': <gurobi.Constr *Awaiting Model Update*>,\n",
       " 'Michael Murphy': <gurobi.Constr *Awaiting Model Update*>,\n",
       " 'Roxanne Greathouse': <gurobi.Constr *Awaiting Model Update*>,\n",
       " 'Gail Olson': <gurobi.Constr *Awaiting Model Update*>,\n",
       " 'Bob Olson': <gurobi.Constr *Awaiting Model Update*>,\n",
       " 'Calvin Tsay': <gurobi.Constr *Awaiting Model Update*>,\n",
       " 'Cara Touretzky': <gurobi.Constr *Awaiting Model Update*>,\n",
       " 'Bill Russell': <gurobi.Constr *Awaiting Model Update*>,\n",
       " 'Sandy Russell': <gurobi.Constr *Awaiting Model Update*>,\n",
       " 'Brett Bell': <gurobi.Constr *Awaiting Model Update*>,\n",
       " 'Paul Davault': <gurobi.Constr *Awaiting Model Update*>,\n",
       " 'Megan Kesselman': <gurobi.Constr *Awaiting Model Update*>,\n",
       " 'Michael Cantrambone': <gurobi.Constr *Awaiting Model Update*>,\n",
       " 'Hannah Rich': <gurobi.Constr *Awaiting Model Update*>,\n",
       " 'Eugene Wu': <gurobi.Constr *Awaiting Model Update*>,\n",
       " 'Mark Hepburn': <gurobi.Constr *Awaiting Model Update*>,\n",
       " 'Toni Hepburn': <gurobi.Constr *Awaiting Model Update*>,\n",
       " 'Tommy Todd': <gurobi.Constr *Awaiting Model Update*>,\n",
       " 'Sarah Todd': <gurobi.Constr *Awaiting Model Update*>,\n",
       " 'Jimmy Harvey': <gurobi.Constr *Awaiting Model Update*>,\n",
       " 'Danielle Harvey': <gurobi.Constr *Awaiting Model Update*>,\n",
       " 'Angelo Morales': <gurobi.Constr *Awaiting Model Update*>,\n",
       " 'Jen Morales': <gurobi.Constr *Awaiting Model Update*>,\n",
       " 'Erik Ahlgren': <gurobi.Constr *Awaiting Model Update*>,\n",
       " 'Fanny Patriksson': <gurobi.Constr *Awaiting Model Update*>,\n",
       " 'Sean Kennedy': <gurobi.Constr *Awaiting Model Update*>,\n",
       " 'Annie Kennedy': <gurobi.Constr *Awaiting Model Update*>,\n",
       " 'Todd Demler': <gurobi.Constr *Awaiting Model Update*>,\n",
       " 'James Rogers': <gurobi.Constr *Awaiting Model Update*>,\n",
       " 'Brittany Zajic': <gurobi.Constr *Awaiting Model Update*>,\n",
       " 'Cody Vild': <gurobi.Constr *Awaiting Model Update*>,\n",
       " 'Jenny Rauch': <gurobi.Constr *Awaiting Model Update*>,\n",
       " 'Ryan Logue': <gurobi.Constr *Awaiting Model Update*>,\n",
       " 'Akshay Sriprasad': <gurobi.Constr *Awaiting Model Update*>,\n",
       " 'Oscar Nordness': <gurobi.Constr *Awaiting Model Update*>,\n",
       " 'Alexis Branagan': <gurobi.Constr *Awaiting Model Update*>,\n",
       " 'Pat Ryan': <gurobi.Constr *Awaiting Model Update*>,\n",
       " 'Kendra Ruth': <gurobi.Constr *Awaiting Model Update*>,\n",
       " 'Ryan Mowlds': <gurobi.Constr *Awaiting Model Update*>,\n",
       " 'Greg Pitts': <gurobi.Constr *Awaiting Model Update*>,\n",
       " 'Alexis Zuniga': <gurobi.Constr *Awaiting Model Update*>,\n",
       " 'Kaitlin Olson': <gurobi.Constr *Awaiting Model Update*>,\n",
       " 'Claire Meunier': <gurobi.Constr *Awaiting Model Update*>,\n",
       " 'Pete Ranges': <gurobi.Constr *Awaiting Model Update*>,\n",
       " 'Esther Ranges': <gurobi.Constr *Awaiting Model Update*>,\n",
       " 'Jack Gretta': <gurobi.Constr *Awaiting Model Update*>,\n",
       " 'John Gretta': <gurobi.Constr *Awaiting Model Update*>,\n",
       " 'Mary Beth Gretta': <gurobi.Constr *Awaiting Model Update*>,\n",
       " 'Jacques Sisteron': <gurobi.Constr *Awaiting Model Update*>,\n",
       " 'Leila Thomas': <gurobi.Constr *Awaiting Model Update*>,\n",
       " 'Bardia Soltanzadeh': <gurobi.Constr *Awaiting Model Update*>,\n",
       " 'Hamideh Soltanzadeh': <gurobi.Constr *Awaiting Model Update*>,\n",
       " 'Sam Waring': <gurobi.Constr *Awaiting Model Update*>,\n",
       " 'Jeff Thompson': <gurobi.Constr *Awaiting Model Update*>,\n",
       " 'Rick Strauss': <gurobi.Constr *Awaiting Model Update*>,\n",
       " 'Laura Strauss': <gurobi.Constr *Awaiting Model Update*>,\n",
       " 'Tarik Raed': <gurobi.Constr *Awaiting Model Update*>,\n",
       " 'Gabe Rodriguez': <gurobi.Constr *Awaiting Model Update*>,\n",
       " 'Natalie Kanshanchi': <gurobi.Constr *Awaiting Model Update*>,\n",
       " \"Ryan O'Shea\": <gurobi.Constr *Awaiting Model Update*>,\n",
       " 'Chris Donlon': <gurobi.Constr *Awaiting Model Update*>,\n",
       " 'Lauren Nelson': <gurobi.Constr *Awaiting Model Update*>,\n",
       " 'Morgan Nelson': <gurobi.Constr *Awaiting Model Update*>,\n",
       " 'Caroline Hearst': <gurobi.Constr *Awaiting Model Update*>,\n",
       " 'Conor Fitzpatrick': <gurobi.Constr *Awaiting Model Update*>,\n",
       " 'Cristina Andrade': <gurobi.Constr *Awaiting Model Update*>,\n",
       " 'Andres Cifuentes': <gurobi.Constr *Awaiting Model Update*>,\n",
       " 'Murd Neel': <gurobi.Constr *Awaiting Model Update*>,\n",
       " 'Bonnie Neel': <gurobi.Constr *Awaiting Model Update*>,\n",
       " 'Judy Bell': <gurobi.Constr *Awaiting Model Update*>,\n",
       " 'Ben Wendel': <gurobi.Constr *Awaiting Model Update*>,\n",
       " 'Julia Senders': <gurobi.Constr *Awaiting Model Update*>,\n",
       " 'Maan Sangid': <gurobi.Constr *Awaiting Model Update*>,\n",
       " 'Rima Shaban': <gurobi.Constr *Awaiting Model Update*>,\n",
       " \"Donna D'Anastasio\": <gurobi.Constr *Awaiting Model Update*>,\n",
       " 'Cleo Magill': <gurobi.Constr *Awaiting Model Update*>,\n",
       " 'Jake Sartino': <gurobi.Constr *Awaiting Model Update*>,\n",
       " 'Maia Magill': <gurobi.Constr *Awaiting Model Update*>,\n",
       " 'Darin Bell': <gurobi.Constr *Awaiting Model Update*>,\n",
       " 'Wendy Bell': <gurobi.Constr *Awaiting Model Update*>,\n",
       " 'Ryan Neel': <gurobi.Constr *Awaiting Model Update*>,\n",
       " 'Karina Neel': <gurobi.Constr *Awaiting Model Update*>,\n",
       " 'Addie Neel': <gurobi.Constr *Awaiting Model Update*>,\n",
       " 'Erik Bell': <gurobi.Constr *Awaiting Model Update*>,\n",
       " 'Alice McIntosh': <gurobi.Constr *Awaiting Model Update*>,\n",
       " 'Daniel Cohen': <gurobi.Constr *Awaiting Model Update*>,\n",
       " 'Haley Vertelney': <gurobi.Constr *Awaiting Model Update*>,\n",
       " 'Rachel Levy': <gurobi.Constr *Awaiting Model Update*>,\n",
       " 'Liz Rhea': <gurobi.Constr *Awaiting Model Update*>,\n",
       " 'Ian Rhea': <gurobi.Constr *Awaiting Model Update*>,\n",
       " 'Sean Martin': <gurobi.Constr *Awaiting Model Update*>,\n",
       " 'Nefeli Chondrogianni': <gurobi.Constr *Awaiting Model Update*>,\n",
       " 'Sean Neel': <gurobi.Constr *Awaiting Model Update*>,\n",
       " 'Jenny Falberg': <gurobi.Constr *Awaiting Model Update*>,\n",
       " 'Pat Jr. Pattison': <gurobi.Constr *Awaiting Model Update*>,\n",
       " 'Morgan Pattison': <gurobi.Constr *Awaiting Model Update*>,\n",
       " 'MC Davault': <gurobi.Constr *Awaiting Model Update*>,\n",
       " 'Ryan Hurley': <gurobi.Constr *Awaiting Model Update*>}"
      ]
     },
     "execution_count": 19,
     "metadata": {},
     "output_type": "execute_result"
    }
   ],
   "source": [
    "seating_model.addConstrs(quicksum(y[g, table] for table in tables.keys()) == 1 for g in guest_list)"
   ]
  },
  {
   "cell_type": "code",
   "execution_count": 20,
   "metadata": {},
   "outputs": [
    {
     "name": "stdout",
     "output_type": "stream",
     "text": [
      "Gurobi Optimizer version 9.5.2 build v9.5.2rc0 (mac64[x86])\n",
      "Thread count: 8 physical cores, 16 logical processors, using up to 16 threads\n"
     ]
    },
    {
     "ename": "GurobiError",
     "evalue": "Model too large for size-limited license; visit https://www.gurobi.com/free-trial for a full license",
     "output_type": "error",
     "traceback": [
      "\u001b[0;31m---------------------------------------------------------------------------\u001b[0m",
      "\u001b[0;31mGurobiError\u001b[0m                               Traceback (most recent call last)",
      "\u001b[0;32m/var/folders/vw/qw2sxl313978htxdyn43y1jc0000gp/T/ipykernel_54114/174415775.py\u001b[0m in \u001b[0;36m<module>\u001b[0;34m\u001b[0m\n\u001b[0;32m----> 1\u001b[0;31m \u001b[0mseating_model\u001b[0m\u001b[0;34m.\u001b[0m\u001b[0moptimize\u001b[0m\u001b[0;34m(\u001b[0m\u001b[0;34m)\u001b[0m\u001b[0;34m\u001b[0m\u001b[0;34m\u001b[0m\u001b[0m\n\u001b[0m",
      "\u001b[0;32msrc/gurobipy/model.pxi\u001b[0m in \u001b[0;36mgurobipy.Model.optimize\u001b[0;34m()\u001b[0m\n",
      "\u001b[0;31mGurobiError\u001b[0m: Model too large for size-limited license; visit https://www.gurobi.com/free-trial for a full license"
     ]
    }
   ],
   "source": [
    "seating_model.optimize()"
   ]
  },
  {
   "cell_type": "code",
   "execution_count": null,
   "metadata": {},
   "outputs": [],
   "source": []
  }
 ],
 "metadata": {
  "kernelspec": {
   "display_name": "Python 3.7.12 ('wedding_prep')",
   "language": "python",
   "name": "python3"
  },
  "language_info": {
   "codemirror_mode": {
    "name": "ipython",
    "version": 3
   },
   "file_extension": ".py",
   "mimetype": "text/x-python",
   "name": "python",
   "nbconvert_exporter": "python",
   "pygments_lexer": "ipython3",
   "version": "3.7.12"
  },
  "orig_nbformat": 4,
  "vscode": {
   "interpreter": {
    "hash": "64786bbea6f7c64f9948135990e173c50afe9407baddc37c36f9ba46381ebb87"
   }
  }
 },
 "nbformat": 4,
 "nbformat_minor": 2
}
