{
 "cells": [
  {
   "cell_type": "code",
   "execution_count": 1,
   "metadata": {},
   "outputs": [],
   "source": [
    "import pandas as pd\n",
    "import matplotlib.pyplot as plt\n",
    "import networkx as nx\n",
    "from tqdm import tqdm\n",
    "from gurobipy import Model, GRB, quicksum"
   ]
  },
  {
   "cell_type": "code",
   "execution_count": 2,
   "metadata": {},
   "outputs": [],
   "source": [
    "relationship_mtx = pd.read_csv('../data/raw/Wedding Guest Network Data - Connection Matrix.csv', index_col=0)\n",
    "constraint_mtx = pd.read_csv('../data/raw/Wedding Guest Network Data - Seating Constraints.csv', index_col=0)"
   ]
  },
  {
   "cell_type": "code",
   "execution_count": 3,
   "metadata": {},
   "outputs": [
    {
     "data": {
      "text/html": [
       "<div>\n",
       "<style scoped>\n",
       "    .dataframe tbody tr th:only-of-type {\n",
       "        vertical-align: middle;\n",
       "    }\n",
       "\n",
       "    .dataframe tbody tr th {\n",
       "        vertical-align: top;\n",
       "    }\n",
       "\n",
       "    .dataframe thead th {\n",
       "        text-align: right;\n",
       "    }\n",
       "</style>\n",
       "<table border=\"1\" class=\"dataframe\">\n",
       "  <thead>\n",
       "    <tr style=\"text-align: right;\">\n",
       "      <th></th>\n",
       "      <th>Richard Pattison</th>\n",
       "      <th>Kathryn Russell</th>\n",
       "      <th>Tim Balzer</th>\n",
       "      <th>Mac Pattison</th>\n",
       "      <th>Ali Pattison</th>\n",
       "      <th>Ella Pattison</th>\n",
       "      <th>Mary Pattison</th>\n",
       "      <th>William Pattison</th>\n",
       "      <th>Wally Pattison</th>\n",
       "      <th>Holly Pattison</th>\n",
       "      <th>...</th>\n",
       "      <th>Liz Rhea</th>\n",
       "      <th>Ian Rhea</th>\n",
       "      <th>Sean Martin</th>\n",
       "      <th>Nefeli Chondrogianni</th>\n",
       "      <th>Sean Neel</th>\n",
       "      <th>Jenny Falberg</th>\n",
       "      <th>Pat Jr. Pattison</th>\n",
       "      <th>Morgan Pattison</th>\n",
       "      <th>MC Davault</th>\n",
       "      <th>Ryan Hurley</th>\n",
       "    </tr>\n",
       "  </thead>\n",
       "  <tbody>\n",
       "    <tr>\n",
       "      <th>Richard Pattison</th>\n",
       "      <td>NaN</td>\n",
       "      <td>3.0</td>\n",
       "      <td>3.0</td>\n",
       "      <td>3.0</td>\n",
       "      <td>3.0</td>\n",
       "      <td>3.0</td>\n",
       "      <td>3.0</td>\n",
       "      <td>3.0</td>\n",
       "      <td>3.0</td>\n",
       "      <td>3.0</td>\n",
       "      <td>...</td>\n",
       "      <td>0.0</td>\n",
       "      <td>0.0</td>\n",
       "      <td>3.0</td>\n",
       "      <td>1.0</td>\n",
       "      <td>1.0</td>\n",
       "      <td>1.0</td>\n",
       "      <td>3.0</td>\n",
       "      <td>2.0</td>\n",
       "      <td>0.0</td>\n",
       "      <td>1.0</td>\n",
       "    </tr>\n",
       "    <tr>\n",
       "      <th>Kathryn Russell</th>\n",
       "      <td>3.0</td>\n",
       "      <td>NaN</td>\n",
       "      <td>3.0</td>\n",
       "      <td>0.0</td>\n",
       "      <td>0.0</td>\n",
       "      <td>0.0</td>\n",
       "      <td>0.0</td>\n",
       "      <td>0.0</td>\n",
       "      <td>2.0</td>\n",
       "      <td>2.0</td>\n",
       "      <td>...</td>\n",
       "      <td>0.0</td>\n",
       "      <td>0.0</td>\n",
       "      <td>0.0</td>\n",
       "      <td>0.0</td>\n",
       "      <td>3.0</td>\n",
       "      <td>2.0</td>\n",
       "      <td>0.0</td>\n",
       "      <td>0.0</td>\n",
       "      <td>3.0</td>\n",
       "      <td>1.0</td>\n",
       "    </tr>\n",
       "    <tr>\n",
       "      <th>Tim Balzer</th>\n",
       "      <td>3.0</td>\n",
       "      <td>3.0</td>\n",
       "      <td>NaN</td>\n",
       "      <td>0.0</td>\n",
       "      <td>0.0</td>\n",
       "      <td>0.0</td>\n",
       "      <td>0.0</td>\n",
       "      <td>0.0</td>\n",
       "      <td>2.0</td>\n",
       "      <td>2.0</td>\n",
       "      <td>...</td>\n",
       "      <td>0.0</td>\n",
       "      <td>0.0</td>\n",
       "      <td>0.0</td>\n",
       "      <td>0.0</td>\n",
       "      <td>3.0</td>\n",
       "      <td>2.0</td>\n",
       "      <td>0.0</td>\n",
       "      <td>0.0</td>\n",
       "      <td>3.0</td>\n",
       "      <td>1.0</td>\n",
       "    </tr>\n",
       "    <tr>\n",
       "      <th>Mac Pattison</th>\n",
       "      <td>3.0</td>\n",
       "      <td>0.0</td>\n",
       "      <td>0.0</td>\n",
       "      <td>NaN</td>\n",
       "      <td>3.0</td>\n",
       "      <td>3.0</td>\n",
       "      <td>3.0</td>\n",
       "      <td>3.0</td>\n",
       "      <td>3.0</td>\n",
       "      <td>3.0</td>\n",
       "      <td>...</td>\n",
       "      <td>0.0</td>\n",
       "      <td>0.0</td>\n",
       "      <td>1.0</td>\n",
       "      <td>0.0</td>\n",
       "      <td>0.0</td>\n",
       "      <td>0.0</td>\n",
       "      <td>3.0</td>\n",
       "      <td>3.0</td>\n",
       "      <td>0.0</td>\n",
       "      <td>0.0</td>\n",
       "    </tr>\n",
       "    <tr>\n",
       "      <th>Ali Pattison</th>\n",
       "      <td>3.0</td>\n",
       "      <td>0.0</td>\n",
       "      <td>0.0</td>\n",
       "      <td>3.0</td>\n",
       "      <td>NaN</td>\n",
       "      <td>3.0</td>\n",
       "      <td>3.0</td>\n",
       "      <td>3.0</td>\n",
       "      <td>3.0</td>\n",
       "      <td>3.0</td>\n",
       "      <td>...</td>\n",
       "      <td>0.0</td>\n",
       "      <td>0.0</td>\n",
       "      <td>0.0</td>\n",
       "      <td>0.0</td>\n",
       "      <td>0.0</td>\n",
       "      <td>0.0</td>\n",
       "      <td>3.0</td>\n",
       "      <td>3.0</td>\n",
       "      <td>0.0</td>\n",
       "      <td>0.0</td>\n",
       "    </tr>\n",
       "    <tr>\n",
       "      <th>...</th>\n",
       "      <td>...</td>\n",
       "      <td>...</td>\n",
       "      <td>...</td>\n",
       "      <td>...</td>\n",
       "      <td>...</td>\n",
       "      <td>...</td>\n",
       "      <td>...</td>\n",
       "      <td>...</td>\n",
       "      <td>...</td>\n",
       "      <td>...</td>\n",
       "      <td>...</td>\n",
       "      <td>...</td>\n",
       "      <td>...</td>\n",
       "      <td>...</td>\n",
       "      <td>...</td>\n",
       "      <td>...</td>\n",
       "      <td>...</td>\n",
       "      <td>...</td>\n",
       "      <td>...</td>\n",
       "      <td>...</td>\n",
       "      <td>...</td>\n",
       "    </tr>\n",
       "    <tr>\n",
       "      <th>Jenny Falberg</th>\n",
       "      <td>1.0</td>\n",
       "      <td>2.0</td>\n",
       "      <td>2.0</td>\n",
       "      <td>0.0</td>\n",
       "      <td>0.0</td>\n",
       "      <td>0.0</td>\n",
       "      <td>0.0</td>\n",
       "      <td>0.0</td>\n",
       "      <td>0.0</td>\n",
       "      <td>0.0</td>\n",
       "      <td>...</td>\n",
       "      <td>0.0</td>\n",
       "      <td>0.0</td>\n",
       "      <td>0.0</td>\n",
       "      <td>0.0</td>\n",
       "      <td>3.0</td>\n",
       "      <td>NaN</td>\n",
       "      <td>0.0</td>\n",
       "      <td>0.0</td>\n",
       "      <td>0.0</td>\n",
       "      <td>0.0</td>\n",
       "    </tr>\n",
       "    <tr>\n",
       "      <th>Pat Jr. Pattison</th>\n",
       "      <td>3.0</td>\n",
       "      <td>0.0</td>\n",
       "      <td>0.0</td>\n",
       "      <td>3.0</td>\n",
       "      <td>3.0</td>\n",
       "      <td>2.0</td>\n",
       "      <td>2.0</td>\n",
       "      <td>2.0</td>\n",
       "      <td>3.0</td>\n",
       "      <td>3.0</td>\n",
       "      <td>...</td>\n",
       "      <td>0.0</td>\n",
       "      <td>0.0</td>\n",
       "      <td>0.0</td>\n",
       "      <td>0.0</td>\n",
       "      <td>0.0</td>\n",
       "      <td>0.0</td>\n",
       "      <td>NaN</td>\n",
       "      <td>3.0</td>\n",
       "      <td>0.0</td>\n",
       "      <td>0.0</td>\n",
       "    </tr>\n",
       "    <tr>\n",
       "      <th>Morgan Pattison</th>\n",
       "      <td>2.0</td>\n",
       "      <td>0.0</td>\n",
       "      <td>0.0</td>\n",
       "      <td>3.0</td>\n",
       "      <td>3.0</td>\n",
       "      <td>2.0</td>\n",
       "      <td>2.0</td>\n",
       "      <td>2.0</td>\n",
       "      <td>3.0</td>\n",
       "      <td>3.0</td>\n",
       "      <td>...</td>\n",
       "      <td>0.0</td>\n",
       "      <td>0.0</td>\n",
       "      <td>0.0</td>\n",
       "      <td>0.0</td>\n",
       "      <td>0.0</td>\n",
       "      <td>0.0</td>\n",
       "      <td>3.0</td>\n",
       "      <td>NaN</td>\n",
       "      <td>0.0</td>\n",
       "      <td>0.0</td>\n",
       "    </tr>\n",
       "    <tr>\n",
       "      <th>MC Davault</th>\n",
       "      <td>0.0</td>\n",
       "      <td>3.0</td>\n",
       "      <td>3.0</td>\n",
       "      <td>0.0</td>\n",
       "      <td>0.0</td>\n",
       "      <td>0.0</td>\n",
       "      <td>0.0</td>\n",
       "      <td>0.0</td>\n",
       "      <td>0.0</td>\n",
       "      <td>0.0</td>\n",
       "      <td>...</td>\n",
       "      <td>0.0</td>\n",
       "      <td>0.0</td>\n",
       "      <td>0.0</td>\n",
       "      <td>0.0</td>\n",
       "      <td>0.0</td>\n",
       "      <td>0.0</td>\n",
       "      <td>0.0</td>\n",
       "      <td>0.0</td>\n",
       "      <td>NaN</td>\n",
       "      <td>0.0</td>\n",
       "    </tr>\n",
       "    <tr>\n",
       "      <th>Ryan Hurley</th>\n",
       "      <td>1.0</td>\n",
       "      <td>1.0</td>\n",
       "      <td>1.0</td>\n",
       "      <td>0.0</td>\n",
       "      <td>0.0</td>\n",
       "      <td>0.0</td>\n",
       "      <td>0.0</td>\n",
       "      <td>0.0</td>\n",
       "      <td>0.0</td>\n",
       "      <td>0.0</td>\n",
       "      <td>...</td>\n",
       "      <td>0.0</td>\n",
       "      <td>0.0</td>\n",
       "      <td>0.0</td>\n",
       "      <td>0.0</td>\n",
       "      <td>0.0</td>\n",
       "      <td>0.0</td>\n",
       "      <td>0.0</td>\n",
       "      <td>0.0</td>\n",
       "      <td>0.0</td>\n",
       "      <td>NaN</td>\n",
       "    </tr>\n",
       "  </tbody>\n",
       "</table>\n",
       "<p>175 rows × 175 columns</p>\n",
       "</div>"
      ],
      "text/plain": [
       "                  Richard Pattison  Kathryn Russell  Tim Balzer  Mac Pattison  \\\n",
       "Richard Pattison               NaN              3.0         3.0           3.0   \n",
       "Kathryn Russell                3.0              NaN         3.0           0.0   \n",
       "Tim Balzer                     3.0              3.0         NaN           0.0   \n",
       "Mac Pattison                   3.0              0.0         0.0           NaN   \n",
       "Ali Pattison                   3.0              0.0         0.0           3.0   \n",
       "...                            ...              ...         ...           ...   \n",
       "Jenny Falberg                  1.0              2.0         2.0           0.0   \n",
       "Pat Jr. Pattison               3.0              0.0         0.0           3.0   \n",
       "Morgan Pattison                2.0              0.0         0.0           3.0   \n",
       "MC Davault                     0.0              3.0         3.0           0.0   \n",
       "Ryan Hurley                    1.0              1.0         1.0           0.0   \n",
       "\n",
       "                  Ali Pattison  Ella Pattison  Mary Pattison  \\\n",
       "Richard Pattison           3.0            3.0            3.0   \n",
       "Kathryn Russell            0.0            0.0            0.0   \n",
       "Tim Balzer                 0.0            0.0            0.0   \n",
       "Mac Pattison               3.0            3.0            3.0   \n",
       "Ali Pattison               NaN            3.0            3.0   \n",
       "...                        ...            ...            ...   \n",
       "Jenny Falberg              0.0            0.0            0.0   \n",
       "Pat Jr. Pattison           3.0            2.0            2.0   \n",
       "Morgan Pattison            3.0            2.0            2.0   \n",
       "MC Davault                 0.0            0.0            0.0   \n",
       "Ryan Hurley                0.0            0.0            0.0   \n",
       "\n",
       "                  William Pattison  Wally Pattison  Holly Pattison  ...  \\\n",
       "Richard Pattison               3.0             3.0             3.0  ...   \n",
       "Kathryn Russell                0.0             2.0             2.0  ...   \n",
       "Tim Balzer                     0.0             2.0             2.0  ...   \n",
       "Mac Pattison                   3.0             3.0             3.0  ...   \n",
       "Ali Pattison                   3.0             3.0             3.0  ...   \n",
       "...                            ...             ...             ...  ...   \n",
       "Jenny Falberg                  0.0             0.0             0.0  ...   \n",
       "Pat Jr. Pattison               2.0             3.0             3.0  ...   \n",
       "Morgan Pattison                2.0             3.0             3.0  ...   \n",
       "MC Davault                     0.0             0.0             0.0  ...   \n",
       "Ryan Hurley                    0.0             0.0             0.0  ...   \n",
       "\n",
       "                  Liz Rhea  Ian Rhea  Sean Martin  Nefeli Chondrogianni  \\\n",
       "Richard Pattison       0.0       0.0          3.0                   1.0   \n",
       "Kathryn Russell        0.0       0.0          0.0                   0.0   \n",
       "Tim Balzer             0.0       0.0          0.0                   0.0   \n",
       "Mac Pattison           0.0       0.0          1.0                   0.0   \n",
       "Ali Pattison           0.0       0.0          0.0                   0.0   \n",
       "...                    ...       ...          ...                   ...   \n",
       "Jenny Falberg          0.0       0.0          0.0                   0.0   \n",
       "Pat Jr. Pattison       0.0       0.0          0.0                   0.0   \n",
       "Morgan Pattison        0.0       0.0          0.0                   0.0   \n",
       "MC Davault             0.0       0.0          0.0                   0.0   \n",
       "Ryan Hurley            0.0       0.0          0.0                   0.0   \n",
       "\n",
       "                  Sean Neel  Jenny Falberg  Pat Jr. Pattison  Morgan Pattison  \\\n",
       "Richard Pattison        1.0            1.0               3.0              2.0   \n",
       "Kathryn Russell         3.0            2.0               0.0              0.0   \n",
       "Tim Balzer              3.0            2.0               0.0              0.0   \n",
       "Mac Pattison            0.0            0.0               3.0              3.0   \n",
       "Ali Pattison            0.0            0.0               3.0              3.0   \n",
       "...                     ...            ...               ...              ...   \n",
       "Jenny Falberg           3.0            NaN               0.0              0.0   \n",
       "Pat Jr. Pattison        0.0            0.0               NaN              3.0   \n",
       "Morgan Pattison         0.0            0.0               3.0              NaN   \n",
       "MC Davault              0.0            0.0               0.0              0.0   \n",
       "Ryan Hurley             0.0            0.0               0.0              0.0   \n",
       "\n",
       "                  MC Davault  Ryan Hurley  \n",
       "Richard Pattison         0.0          1.0  \n",
       "Kathryn Russell          3.0          1.0  \n",
       "Tim Balzer               3.0          1.0  \n",
       "Mac Pattison             0.0          0.0  \n",
       "Ali Pattison             0.0          0.0  \n",
       "...                      ...          ...  \n",
       "Jenny Falberg            0.0          0.0  \n",
       "Pat Jr. Pattison         0.0          0.0  \n",
       "Morgan Pattison          0.0          0.0  \n",
       "MC Davault               NaN          0.0  \n",
       "Ryan Hurley              0.0          NaN  \n",
       "\n",
       "[175 rows x 175 columns]"
      ]
     },
     "execution_count": 3,
     "metadata": {},
     "output_type": "execute_result"
    }
   ],
   "source": [
    "relationship_mtx"
   ]
  },
  {
   "cell_type": "code",
   "execution_count": 4,
   "metadata": {},
   "outputs": [],
   "source": [
    "constraint_mtx.fillna(0, inplace=True)"
   ]
  },
  {
   "cell_type": "code",
   "execution_count": 5,
   "metadata": {},
   "outputs": [
    {
     "data": {
      "text/plain": [
       "True"
      ]
     },
     "execution_count": 5,
     "metadata": {},
     "output_type": "execute_result"
    }
   ],
   "source": [
    "all(constraint_mtx.columns == relationship_mtx.columns) and all(constraint_mtx.index == relationship_mtx.index) and all(constraint_mtx.index == constraint_mtx.columns)"
   ]
  },
  {
   "cell_type": "code",
   "execution_count": 6,
   "metadata": {},
   "outputs": [
    {
     "data": {
      "image/png": "[encoded data removed]",
      "text/plain": [
       "<Figure size 432x288 with 1 Axes>"
      ]
     },
     "metadata": {
      "needs_background": "light"
     },
     "output_type": "display_data"
    },
    {
     "data": {
      "image/png": "[encoded data removed]",
      "text/plain": [
       "<Figure size 432x288 with 1 Axes>"
      ]
     },
     "metadata": {
      "needs_background": "light"
     },
     "output_type": "display_data"
    }
   ],
   "source": [
    "plt.rcParams['figure.figsize'] = (12, 12)\n",
    "plt.rcParams['font.size'] = 15\n",
    "plt.imshow(relationship_mtx.values, cmap='Blues', interpolation='nearest')\n",
    "plt.show()\n",
    "\n",
    "plt.imshow(constraint_mtx.values, cmap='bwr', interpolation='nearest')\n",
    "plt.show()"
   ]
  },
  {
   "cell_type": "code",
   "execution_count": 7,
   "metadata": {},
   "outputs": [
    {
     "data": {
      "text/plain": [
       "Mary Balzer            360.0\n",
       "Richard Pattison       288.0\n",
       "Max Balzer             229.0\n",
       "Kathryn Russell        223.0\n",
       "Tim Balzer             211.0\n",
       "Holly Pattison         135.0\n",
       "Wally Pattison         129.0\n",
       "Genevieve Geoghan      103.0\n",
       "Mac Pattison            96.0\n",
       "Mary Grace Pattison     86.0\n",
       "Maggie Dunn             81.0\n",
       "Pat Jr. Pattison        78.0\n",
       "Pat Pattison            75.0\n",
       "Marie Pattison          75.0\n",
       "Oscar Nordness          71.0\n",
       "Ali Pattison            68.0\n",
       "Molly Bammerlin         68.0\n",
       "James Rogers            67.0\n",
       "Suzie Campen            67.0\n",
       "Tim Campen              67.0\n",
       "Judy Bell               66.0\n",
       "Morgan Pattison         66.0\n",
       "Christie Ranges         65.0\n",
       "Daryl Bammerlin         64.0\n",
       "Mary Pattison           62.0\n",
       "Cody Vild               62.0\n",
       "Bonnie Neel             62.0\n",
       "Olivia Bammerlin        62.0\n",
       "Ella Pattison           62.0\n",
       "Harper Bammerlin        62.0\n",
       "Murd Neel               62.0\n",
       "William Pattison        62.0\n",
       "Sloane Fowkes           60.0\n",
       "Angelo Morales          59.0\n",
       "Mark Hepburn            58.0\n",
       "Eugene Wu               58.0\n",
       "Debbie Roper            57.0\n",
       "Andrew Campen           57.0\n",
       "Tommy Todd              57.0\n",
       "Sean Kennedy            56.0\n",
       "John Russell            56.0\n",
       "Sara Forsyth            56.0\n",
       "Todd Demler             55.0\n",
       "Jimmy Harvey            55.0\n",
       "Pete Ranges             54.0\n",
       "Mary Campen             53.0\n",
       "Jenny Rauch             53.0\n",
       "Nick Baltaxe            53.0\n",
       "Cleo Magill             52.0\n",
       "Addie Neel              52.0\n",
       "dtype: float64"
      ]
     },
     "execution_count": 7,
     "metadata": {},
     "output_type": "execute_result"
    }
   ],
   "source": [
    "relationship_mtx.sum(axis=0).sort_values(ascending=False)[:50]"
   ]
  },
  {
   "cell_type": "code",
   "execution_count": 8,
   "metadata": {},
   "outputs": [
    {
     "data": {
      "text/plain": [
       "Toni Hepburn            26.0\n",
       "John Gretta             25.0\n",
       "Erik Ahlgren            25.0\n",
       "Kaitlin Olson           25.0\n",
       "Mary Beth Gretta        25.0\n",
       "Sam Waring              24.0\n",
       "Maggie McGinley         24.0\n",
       "Claire Meunier          24.0\n",
       "Johan Ahlgren           24.0\n",
       "Anneli Ahlgren          24.0\n",
       "Hamideh Soltanzadeh     23.0\n",
       "Molly Hamrick           23.0\n",
       "Charlie Coolidge        22.0\n",
       "Sam Nicholson           22.0\n",
       "Daniel Cohen            21.0\n",
       "Jenny Falberg           21.0\n",
       "Liz Rhea                21.0\n",
       "Paul Davault            21.0\n",
       "Jukka Aromaa            21.0\n",
       "Cara Touretzky          21.0\n",
       "Ryan Hurley             20.0\n",
       "Tori Iannuzzi           20.0\n",
       "Bob Olson               20.0\n",
       "John Mazza              19.0\n",
       "Kendra Ruth             19.0\n",
       "Astrid Wettstein        17.0\n",
       "Aaron Hoogstraten       17.0\n",
       "Maan Sangid             17.0\n",
       "Megan Kesselman         17.0\n",
       "Mallory Chandler        16.0\n",
       "Caroline Coolidge       15.0\n",
       "Leila Thomas            14.0\n",
       "Jake Sartino            14.0\n",
       "Haley Vertelney         14.0\n",
       "Savannah Rivers         13.0\n",
       "Fanny Patriksson        12.0\n",
       "Ian Rhea                12.0\n",
       "Alexis Zuniga           12.0\n",
       "Nefeli Chondrogianni    10.0\n",
       "Lauren Nelson            9.0\n",
       "Julia Senders            9.0\n",
       "Conor Fitzpatrick        8.0\n",
       "Hunter Sullivan          7.0\n",
       "Matt Bultman             7.0\n",
       "Pat Ryan                 7.0\n",
       "Rima Shaban              6.0\n",
       "Pepe Daluiso             6.0\n",
       "Ryan Mowlds              5.0\n",
       "Michael Cantrambone      3.0\n",
       "Rachel Levy              3.0\n",
       "dtype: float64"
      ]
     },
     "execution_count": 8,
     "metadata": {},
     "output_type": "execute_result"
    }
   ],
   "source": [
    "relationship_mtx.sum(axis=0).sort_values(ascending=False)[-50:]"
   ]
  },
  {
   "cell_type": "code",
   "execution_count": 9,
   "metadata": {},
   "outputs": [],
   "source": [
    "guest_list = relationship_mtx.index.values.tolist()"
   ]
  },
  {
   "cell_type": "code",
   "execution_count": 10,
   "metadata": {},
   "outputs": [
    {
     "data": {
      "text/plain": [
       "175"
      ]
     },
     "execution_count": 10,
     "metadata": {},
     "output_type": "execute_result"
    }
   ],
   "source": [
    "len(guest_list)"
   ]
  },
  {
   "cell_type": "code",
   "execution_count": 11,
   "metadata": {},
   "outputs": [],
   "source": [
    "for g in guest_list:\n",
    "    for gp in guest_list:\n",
    "        if gp == g:\n",
    "            continue\n",
    "\n",
    "        if relationship_mtx.loc[g, gp] != relationship_mtx.loc[gp, g]:\n",
    "            print(g)\n",
    "            print(gp)\n",
    "\n",
    "        if constraint_mtx.loc[g, gp] != constraint_mtx.loc[gp, g]:\n",
    "            print(g)\n",
    "            print(gp)"
   ]
  },
  {
   "cell_type": "code",
   "execution_count": 12,
   "metadata": {},
   "outputs": [],
   "source": [
    "graph = nx.Graph(name=\"Wedding Guest Network\")\n",
    "graph.add_nodes_from(guest_list)"
   ]
  },
  {
   "cell_type": "code",
   "execution_count": 13,
   "metadata": {},
   "outputs": [],
   "source": [
    "edges = []\n",
    "for i, g in enumerate(guest_list):\n",
    "    for gp in guest_list[i+1:]:\n",
    "        w = relationship_mtx.loc[g, gp]\n",
    "        if w != 0:\n",
    "            edges.append((g, gp, w))"
   ]
  },
  {
   "cell_type": "code",
   "execution_count": 14,
   "metadata": {},
   "outputs": [
    {
     "data": {
      "text/plain": [
       "2093"
      ]
     },
     "execution_count": 14,
     "metadata": {},
     "output_type": "execute_result"
    }
   ],
   "source": [
    "len(edges)"
   ]
  },
  {
   "cell_type": "code",
   "execution_count": 15,
   "metadata": {},
   "outputs": [],
   "source": [
    "graph.add_weighted_edges_from(edges, weight='relationship_strength')"
   ]
  },
  {
   "cell_type": "code",
   "execution_count": 16,
   "metadata": {},
   "outputs": [],
   "source": [
    "between_centrality = nx.betweenness_centrality(graph, weight='relationship_strength')\n",
    "clusters = nx.clustering(graph, weight='relationship_strength')\n",
    "centrality = nx.eigenvector_centrality(graph, weight='relationship_strength')"
   ]
  },
  {
   "cell_type": "code",
   "execution_count": 17,
   "metadata": {},
   "outputs": [
    {
     "data": {
      "text/html": [
       "<div>\n",
       "<style scoped>\n",
       "    .dataframe tbody tr th:only-of-type {\n",
       "        vertical-align: middle;\n",
       "    }\n",
       "\n",
       "    .dataframe tbody tr th {\n",
       "        vertical-align: top;\n",
       "    }\n",
       "\n",
       "    .dataframe thead th {\n",
       "        text-align: right;\n",
       "    }\n",
       "</style>\n",
       "<table border=\"1\" class=\"dataframe\">\n",
       "  <thead>\n",
       "    <tr style=\"text-align: right;\">\n",
       "      <th></th>\n",
       "      <th>between_centrality</th>\n",
       "      <th>clusters</th>\n",
       "      <th>centrality</th>\n",
       "    </tr>\n",
       "  </thead>\n",
       "  <tbody>\n",
       "    <tr>\n",
       "      <th>Aaron Hoogstraten</th>\n",
       "      <td>0.002611</td>\n",
       "      <td>0.439507</td>\n",
       "      <td>0.029801</td>\n",
       "    </tr>\n",
       "    <tr>\n",
       "      <th>Abby Nicholson</th>\n",
       "      <td>0.006339</td>\n",
       "      <td>0.379844</td>\n",
       "      <td>0.054349</td>\n",
       "    </tr>\n",
       "    <tr>\n",
       "      <th>Addie Neel</th>\n",
       "      <td>0.002039</td>\n",
       "      <td>0.537410</td>\n",
       "      <td>0.088765</td>\n",
       "    </tr>\n",
       "    <tr>\n",
       "      <th>Akshay Sriprasad</th>\n",
       "      <td>0.019979</td>\n",
       "      <td>0.288931</td>\n",
       "      <td>0.044351</td>\n",
       "    </tr>\n",
       "    <tr>\n",
       "      <th>Alexis Branagan</th>\n",
       "      <td>0.022258</td>\n",
       "      <td>0.326361</td>\n",
       "      <td>0.034861</td>\n",
       "    </tr>\n",
       "    <tr>\n",
       "      <th>...</th>\n",
       "      <td>...</td>\n",
       "      <td>...</td>\n",
       "      <td>...</td>\n",
       "    </tr>\n",
       "    <tr>\n",
       "      <th>Trish Davis</th>\n",
       "      <td>0.000000</td>\n",
       "      <td>0.842745</td>\n",
       "      <td>0.079997</td>\n",
       "    </tr>\n",
       "    <tr>\n",
       "      <th>Troy Nguyen</th>\n",
       "      <td>0.000556</td>\n",
       "      <td>0.532772</td>\n",
       "      <td>0.057128</td>\n",
       "    </tr>\n",
       "    <tr>\n",
       "      <th>Wally Pattison</th>\n",
       "      <td>0.037544</td>\n",
       "      <td>0.236292</td>\n",
       "      <td>0.154986</td>\n",
       "    </tr>\n",
       "    <tr>\n",
       "      <th>Wendy Bell</th>\n",
       "      <td>0.000019</td>\n",
       "      <td>0.805842</td>\n",
       "      <td>0.074333</td>\n",
       "    </tr>\n",
       "    <tr>\n",
       "      <th>William Pattison</th>\n",
       "      <td>0.000343</td>\n",
       "      <td>0.651756</td>\n",
       "      <td>0.091114</td>\n",
       "    </tr>\n",
       "  </tbody>\n",
       "</table>\n",
       "<p>175 rows × 3 columns</p>\n",
       "</div>"
      ],
      "text/plain": [
       "                   between_centrality  clusters  centrality\n",
       "Aaron Hoogstraten            0.002611  0.439507    0.029801\n",
       "Abby Nicholson               0.006339  0.379844    0.054349\n",
       "Addie Neel                   0.002039  0.537410    0.088765\n",
       "Akshay Sriprasad             0.019979  0.288931    0.044351\n",
       "Alexis Branagan              0.022258  0.326361    0.034861\n",
       "...                               ...       ...         ...\n",
       "Trish Davis                  0.000000  0.842745    0.079997\n",
       "Troy Nguyen                  0.000556  0.532772    0.057128\n",
       "Wally Pattison               0.037544  0.236292    0.154986\n",
       "Wendy Bell                   0.000019  0.805842    0.074333\n",
       "William Pattison             0.000343  0.651756    0.091114\n",
       "\n",
       "[175 rows x 3 columns]"
      ]
     },
     "execution_count": 17,
     "metadata": {},
     "output_type": "execute_result"
    }
   ],
   "source": [
    "df_analysis = pd.concat((pd.Series(between_centrality).sort_index(), pd.Series(clusters).sort_index(), pd.Series(centrality).sort_index()), axis=1, keys=['between_centrality', 'clusters', 'centrality'])\n",
    "df_analysis"
   ]
  },
  {
   "cell_type": "code",
   "execution_count": 18,
   "metadata": {},
   "outputs": [
    {
     "data": {
      "image/png": "[encoded data removed]",
      "text/plain": [
       "<Figure size 432x288 with 1 Axes>"
      ]
     },
     "metadata": {},
     "output_type": "display_data"
    }
   ],
   "source": [
    "nx.draw(graph, nx.kamada_kawai_layout(graph))#, with_labels=True, node_size=300, node_color='blue', edge_color='black', width=1, font_size=15)"
   ]
  },
  {
   "cell_type": "code",
   "execution_count": 19,
   "metadata": {},
   "outputs": [
    {
     "data": {
      "image/png": "[encoded data removed]",
      "text/plain": [
       "<Figure size 432x288 with 1 Axes>"
      ]
     },
     "metadata": {},
     "output_type": "display_data"
    }
   ],
   "source": [
    "nx.draw(graph, nx.spring_layout(graph))"
   ]
  },
  {
   "cell_type": "code",
   "execution_count": 54,
   "metadata": {},
   "outputs": [],
   "source": [
    "guest_list = guest_list[:40]"
   ]
  },
  {
   "cell_type": "code",
   "execution_count": 55,
   "metadata": {},
   "outputs": [],
   "source": [
    "tables = {\n",
    "    f'Table {t+1}': 10 for t in range(len(guest_list)//10 + 1)\n",
    "}"
   ]
  },
  {
   "cell_type": "code",
   "execution_count": 56,
   "metadata": {},
   "outputs": [],
   "source": [
    "seating_model = Model()"
   ]
  },
  {
   "cell_type": "code",
   "execution_count": 57,
   "metadata": {},
   "outputs": [],
   "source": [
    "y = seating_model.addVars(guest_list, tables.keys(), vtype=GRB.BINARY, name=\"y\")"
   ]
  },
  {
   "cell_type": "code",
   "execution_count": 58,
   "metadata": {},
   "outputs": [],
   "source": [
    "not_seated_together_list = []\n",
    "for i, g in enumerate(guest_list):\n",
    "    for gp in guest_list[i+1:]:\n",
    "\n",
    "        if constraint_mtx.loc[g, gp] == 1:\n",
    "            relationship_mtx.loc[g, gp] *= 100\n",
    "        elif constraint_mtx.loc[g, gp] == -1:\n",
    "            not_seated_together_list.append((g, gp))"
   ]
  },
  {
   "cell_type": "code",
   "execution_count": 59,
   "metadata": {},
   "outputs": [
    {
     "data": {
      "text/plain": [
       "[]"
      ]
     },
     "execution_count": 59,
     "metadata": {},
     "output_type": "execute_result"
    }
   ],
   "source": [
    "not_seated_together_list"
   ]
  },
  {
   "cell_type": "code",
   "execution_count": 60,
   "metadata": {},
   "outputs": [
    {
     "name": "stderr",
     "output_type": "stream",
     "text": [
      "100%|██████████| 40/40 [00:00<00:00, 191.23it/s]\n"
     ]
    }
   ],
   "source": [
    "seating_model.setObjective(\n",
    "    quicksum(\n",
    "        quicksum(\n",
    "            quicksum(\n",
    "                relationship_mtx.loc[g, gp] * y[(g, table)] * y[(gp, table)] \\\n",
    "                    for table in tables.keys()) \\\n",
    "                for gp in guest_list[i+1:]) \\\n",
    "            for i, g in tqdm(enumerate(guest_list), total=len(guest_list))\n",
    "    )\n",
    ")"
   ]
  },
  {
   "cell_type": "code",
   "execution_count": 61,
   "metadata": {},
   "outputs": [
    {
     "data": {
      "text/plain": [
       "{('Table 1', 10): <gurobi.Constr *Awaiting Model Update*>,\n",
       " ('Table 2', 10): <gurobi.Constr *Awaiting Model Update*>,\n",
       " ('Table 3', 10): <gurobi.Constr *Awaiting Model Update*>,\n",
       " ('Table 4', 10): <gurobi.Constr *Awaiting Model Update*>,\n",
       " ('Table 5', 10): <gurobi.Constr *Awaiting Model Update*>}"
      ]
     },
     "execution_count": 61,
     "metadata": {},
     "output_type": "execute_result"
    }
   ],
   "source": [
    "seating_model.addConstrs(quicksum(y[(g, table)] for g in guest_list) <= max_seats for table, max_seats in tables.items())"
   ]
  },
  {
   "cell_type": "code",
   "execution_count": 62,
   "metadata": {},
   "outputs": [
    {
     "data": {
      "text/plain": [
       "{}"
      ]
     },
     "execution_count": 62,
     "metadata": {},
     "output_type": "execute_result"
    }
   ],
   "source": [
    "seating_model.addConstrs(y[g, table] + y[gp, table] <= 1 for table in tables.keys() for g, gp in not_seated_together_list)"
   ]
  },
  {
   "cell_type": "code",
   "execution_count": 63,
   "metadata": {},
   "outputs": [
    {
     "data": {
      "text/plain": [
       "{'Richard Pattison': <gurobi.Constr *Awaiting Model Update*>,\n",
       " 'Kathryn Russell': <gurobi.Constr *Awaiting Model Update*>,\n",
       " 'Tim Balzer': <gurobi.Constr *Awaiting Model Update*>,\n",
       " 'Mac Pattison': <gurobi.Constr *Awaiting Model Update*>,\n",
       " 'Ali Pattison': <gurobi.Constr *Awaiting Model Update*>,\n",
       " 'Ella Pattison': <gurobi.Constr *Awaiting Model Update*>,\n",
       " 'Mary Pattison': <gurobi.Constr *Awaiting Model Update*>,\n",
       " 'William Pattison': <gurobi.Constr *Awaiting Model Update*>,\n",
       " 'Wally Pattison': <gurobi.Constr *Awaiting Model Update*>,\n",
       " 'Holly Pattison': <gurobi.Constr *Awaiting Model Update*>,\n",
       " 'Daryl Bammerlin': <gurobi.Constr *Awaiting Model Update*>,\n",
       " 'Molly Bammerlin': <gurobi.Constr *Awaiting Model Update*>,\n",
       " 'Olivia Bammerlin': <gurobi.Constr *Awaiting Model Update*>,\n",
       " 'Harper Bammerlin': <gurobi.Constr *Awaiting Model Update*>,\n",
       " 'Austin Giangeruso': <gurobi.Constr *Awaiting Model Update*>,\n",
       " 'Mary Grace Pattison': <gurobi.Constr *Awaiting Model Update*>,\n",
       " 'Troy Nguyen': <gurobi.Constr *Awaiting Model Update*>,\n",
       " 'Mary Balzer': <gurobi.Constr *Awaiting Model Update*>,\n",
       " 'Max Balzer': <gurobi.Constr *Awaiting Model Update*>,\n",
       " 'Devon Tucker': <gurobi.Constr *Awaiting Model Update*>,\n",
       " 'Genevieve Geoghan': <gurobi.Constr *Awaiting Model Update*>,\n",
       " 'Jake Bottiglieri': <gurobi.Constr *Awaiting Model Update*>,\n",
       " 'Jim Geoghan': <gurobi.Constr *Awaiting Model Update*>,\n",
       " 'Annie Geoghan': <gurobi.Constr *Awaiting Model Update*>,\n",
       " 'Maggie Dunn': <gurobi.Constr *Awaiting Model Update*>,\n",
       " 'Mark Roper': <gurobi.Constr *Awaiting Model Update*>,\n",
       " 'Debbie Roper': <gurobi.Constr *Awaiting Model Update*>,\n",
       " 'Caroline Pinkey': <gurobi.Constr *Awaiting Model Update*>,\n",
       " 'Gordon Carey': <gurobi.Constr *Awaiting Model Update*>,\n",
       " 'Tracy Carey': <gurobi.Constr *Awaiting Model Update*>,\n",
       " 'Sam Ingraffia': <gurobi.Constr *Awaiting Model Update*>,\n",
       " 'Maggie McGinley': <gurobi.Constr *Awaiting Model Update*>,\n",
       " 'Abby Nicholson': <gurobi.Constr *Awaiting Model Update*>,\n",
       " 'Sam Nicholson': <gurobi.Constr *Awaiting Model Update*>,\n",
       " 'Paul Malandra': <gurobi.Constr *Awaiting Model Update*>,\n",
       " 'Saranna Soroka': <gurobi.Constr *Awaiting Model Update*>,\n",
       " 'Astrid Wettstein': <gurobi.Constr *Awaiting Model Update*>,\n",
       " 'Molly Hamrick': <gurobi.Constr *Awaiting Model Update*>,\n",
       " 'Jillian Fong': <gurobi.Constr *Awaiting Model Update*>,\n",
       " 'Aaron Hoogstraten': <gurobi.Constr *Awaiting Model Update*>}"
      ]
     },
     "execution_count": 63,
     "metadata": {},
     "output_type": "execute_result"
    }
   ],
   "source": [
    "seating_model.addConstrs(quicksum(y[g, table] for table in tables.keys()) == 1 for g in guest_list)"
   ]
  },
  {
   "cell_type": "code",
   "execution_count": 64,
   "metadata": {},
   "outputs": [
    {
     "name": "stdout",
     "output_type": "stream",
     "text": [
      "Gurobi Optimizer version 9.5.2 build v9.5.2rc0 (mac64[x86])\n",
      "Thread count: 8 physical cores, 16 logical processors, using up to 16 threads\n",
      "Optimize a model with 45 rows, 200 columns and 400 nonzeros\n",
      "Model fingerprint: 0x4105cfd6\n",
      "Model has 1490 quadratic objective terms\n",
      "Variable types: 0 continuous, 200 integer (200 binary)\n",
      "Coefficient statistics:\n",
      "  Matrix range     [1e+00, 1e+00]\n",
      "  Objective range  [0e+00, 0e+00]\n",
      "  QObjective range [2e+00, 6e+08]\n",
      "  Bounds range     [1e+00, 1e+00]\n",
      "  RHS range        [1e+00, 1e+01]\n",
      "Warning: Model contains large quadratic objective coefficients\n",
      "         Consider reformulating model or setting NumericFocus parameter\n",
      "         to avoid numerical issues.\n",
      "Found heuristic solution: objective 9.000001e+08\n",
      "Presolve time: 0.00s\n",
      "Presolved: 1535 rows, 1690 columns, 4870 nonzeros\n",
      "Variable types: 0 continuous, 1690 integer (1690 binary)\n",
      "\n",
      "Root relaxation: objective 0.000000e+00, 179 iterations, 0.01 seconds (0.00 work units)\n",
      "\n",
      "    Nodes    |    Current Node    |     Objective Bounds      |     Work\n",
      " Expl Unexpl |  Obj  Depth IntInf | Incumbent    BestBd   Gap | It/Node Time\n",
      "\n",
      "     0     0    0.00000    0   44 9.0000e+08    0.00000   100%     -    0s\n",
      "H    0     0                    8.000001e+08    0.00000   100%     -    0s\n",
      "H    0     0                      75.0000000    0.00000   100%     -    0s\n",
      "H    0     0                      73.0000000    0.00000   100%     -    0s\n",
      "H    0     0                      68.0000000    0.00000   100%     -    0s\n",
      "     0     0    0.00000    0  101   68.00000    0.00000   100%     -    0s\n",
      "     0     0    6.50000    0  100   68.00000    6.50000  90.4%     -    0s\n",
      "     0     0    6.50000    0   68   68.00000    6.50000  90.4%     -    0s\n",
      "     0     0    9.00000    0   92   68.00000    9.00000  86.8%     -    0s\n",
      "     0     0    9.00000    0   94   68.00000    9.00000  86.8%     -    0s\n",
      "     0     0    9.60000    0  108   68.00000    9.60000  85.9%     -    0s\n",
      "     0     0    9.60000    0   94   68.00000    9.60000  85.9%     -    0s\n",
      "     0     2    9.60000    0   83   68.00000    9.60000  85.9%     -    0s\n",
      "H 1486  1211                      67.0000000   58.18002  13.2%  61.9    3s\n",
      "H 1487  1151                      66.0000000   58.84673  10.8%  61.8    3s\n",
      "H 1488  1093                      65.0000000   58.84673  9.47%  61.8    3s\n",
      "H 1490  1039                      64.0000000   59.09911  7.66%  61.7    3s\n",
      "H 1493   988                      63.0000000   59.68399  5.26%  61.6    3s\n",
      "  1504   995   60.52028    9  257   63.00000   60.52028  3.94%  61.1    5s\n",
      "\n",
      "Cutting planes:\n",
      "  Gomory: 1\n",
      "  Flow cover: 51\n",
      "  Zero half: 6\n",
      "  RLT: 16\n",
      "  BQP: 336\n",
      "  PSD: 1\n",
      "\n",
      "Explored 1548 nodes (122047 simplex iterations) in 6.73 seconds (6.69 work units)\n",
      "Thread count was 16 (of 16 available processors)\n",
      "\n",
      "Solution count 10: 63 64 65 ... 9e+08\n",
      "\n",
      "Optimal solution found (tolerance 1.00e-04)\n",
      "Best objective 6.300000000000e+01, best bound 6.300000000000e+01, gap 0.0000%\n"
     ]
    }
   ],
   "source": [
    "seating_model.optimize()"
   ]
  },
  {
   "cell_type": "code",
   "execution_count": null,
   "metadata": {},
   "outputs": [],
   "source": []
  }
 ],
 "metadata": {
  "kernelspec": {
   "display_name": "Python 3.7.12 ('wedding_prep')",
   "language": "python",
   "name": "python3"
  },
  "language_info": {
   "codemirror_mode": {
    "name": "ipython",
    "version": 3
   },
   "file_extension": ".py",
   "mimetype": "text/x-python",
   "name": "python",
   "nbconvert_exporter": "python",
   "pygments_lexer": "ipython3",
   "version": "3.7.12"
  },
  "orig_nbformat": 4,
  "vscode": {
   "interpreter": {
    "hash": "64786bbea6f7c64f9948135990e173c50afe9407baddc37c36f9ba46381ebb87"
   }
  }
 },
 "nbformat": 4,
 "nbformat_minor": 2
}
