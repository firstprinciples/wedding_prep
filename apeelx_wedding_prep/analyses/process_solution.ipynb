{
 "cells": [
  {
   "cell_type": "code",
   "execution_count": 1,
   "metadata": {},
   "outputs": [],
   "source": [
    "import pandas as pd\n",
    "from apeelx_wedding_prep.analyses.seating_model import SeatingModel"
   ]
  },
  {
   "cell_type": "code",
   "execution_count": 2,
   "metadata": {},
   "outputs": [
    {
     "name": "stdout",
     "output_type": "stream",
     "text": [
      "n_tables: 20, extra_seats: 0\n"
     ]
    }
   ],
   "source": [
    "seating_model = SeatingModel.read_solution_file('../models/solutions/seating_model13.sol')"
   ]
  },
  {
   "cell_type": "code",
   "execution_count": null,
   "metadata": {},
   "outputs": [],
   "source": [
    "seating_model.create_model()"
   ]
  },
  {
   "cell_type": "code",
   "execution_count": null,
   "metadata": {},
   "outputs": [],
   "source": [
    "seating_model.write_model('seating_model_test', include_start=True)"
   ]
  },
  {
   "cell_type": "code",
   "execution_count": 27,
   "metadata": {},
   "outputs": [],
   "source": [
    "seating_chart = SeatingModel.process_solution('../models/solutions/seating_model30.sol')"
   ]
  },
  {
   "cell_type": "code",
   "execution_count": 28,
   "metadata": {},
   "outputs": [],
   "source": [
    "seating_chart.to_csv('../data/transformed/seating_assignments_30.csv')"
   ]
  },
  {
   "cell_type": "code",
   "execution_count": null,
   "metadata": {},
   "outputs": [],
   "source": [
    "seating_chart.to_html('../../seating_assignments.html')"
   ]
  },
  {
   "cell_type": "code",
   "execution_count": 16,
   "metadata": {},
   "outputs": [],
   "source": [
    "seating_assignments = pd.read_csv('../data/transformed/seating_assignments_31.csv', index_col=0)"
   ]
  },
  {
   "cell_type": "code",
   "execution_count": 17,
   "metadata": {},
   "outputs": [
    {
     "data": {
      "text/html": [
       "<div>\n",
       "<style scoped>\n",
       "    .dataframe tbody tr th:only-of-type {\n",
       "        vertical-align: middle;\n",
       "    }\n",
       "\n",
       "    .dataframe tbody tr th {\n",
       "        vertical-align: top;\n",
       "    }\n",
       "\n",
       "    .dataframe thead th {\n",
       "        text-align: right;\n",
       "    }\n",
       "</style>\n",
       "<table border=\"1\" class=\"dataframe\">\n",
       "  <thead>\n",
       "    <tr style=\"text-align: right;\">\n",
       "      <th></th>\n",
       "      <th>t_1</th>\n",
       "      <th>t_10</th>\n",
       "      <th>t_11</th>\n",
       "      <th>t_12</th>\n",
       "      <th>t_13</th>\n",
       "      <th>t_14</th>\n",
       "      <th>t_15</th>\n",
       "      <th>t_16</th>\n",
       "      <th>t_17</th>\n",
       "      <th>t_18</th>\n",
       "      <th>...</th>\n",
       "      <th>t_2</th>\n",
       "      <th>t_20</th>\n",
       "      <th>t_21</th>\n",
       "      <th>t_3</th>\n",
       "      <th>t_4</th>\n",
       "      <th>t_5</th>\n",
       "      <th>t_6</th>\n",
       "      <th>t_7</th>\n",
       "      <th>t_8</th>\n",
       "      <th>t_9</th>\n",
       "    </tr>\n",
       "  </thead>\n",
       "  <tbody>\n",
       "    <tr>\n",
       "      <th>Locked</th>\n",
       "      <td>NaN</td>\n",
       "      <td>NaN</td>\n",
       "      <td>y</td>\n",
       "      <td>NaN</td>\n",
       "      <td>NaN</td>\n",
       "      <td>y</td>\n",
       "      <td>NaN</td>\n",
       "      <td>y</td>\n",
       "      <td>NaN</td>\n",
       "      <td>NaN</td>\n",
       "      <td>...</td>\n",
       "      <td>NaN</td>\n",
       "      <td>NaN</td>\n",
       "      <td>NaN</td>\n",
       "      <td>NaN</td>\n",
       "      <td>NaN</td>\n",
       "      <td>NaN</td>\n",
       "      <td>y</td>\n",
       "      <td>NaN</td>\n",
       "      <td>NaN</td>\n",
       "      <td>y</td>\n",
       "    </tr>\n",
       "    <tr>\n",
       "      <th>Guest 1</th>\n",
       "      <td>Todd Demler</td>\n",
       "      <td>Gordon Carey</td>\n",
       "      <td>Calvin Tsay</td>\n",
       "      <td>Austin Giangeruso</td>\n",
       "      <td>Jim Geoghan</td>\n",
       "      <td>Kathryn Russell</td>\n",
       "      <td>Brett Bell</td>\n",
       "      <td>Matt Gaudioso</td>\n",
       "      <td>Megan Kesselman</td>\n",
       "      <td>Troy Nguyen</td>\n",
       "      <td>...</td>\n",
       "      <td>Jillian Fong</td>\n",
       "      <td>Abby Nicholson</td>\n",
       "      <td>Tori Bultman</td>\n",
       "      <td>Mallory Chandler</td>\n",
       "      <td>Richard Pattison</td>\n",
       "      <td>Kaitlin Olson</td>\n",
       "      <td>Wally Pattison</td>\n",
       "      <td>Flo Fowkes</td>\n",
       "      <td>Mary Grace Pattison</td>\n",
       "      <td>Mac Pattison</td>\n",
       "    </tr>\n",
       "    <tr>\n",
       "      <th>Guest 2</th>\n",
       "      <td>James Rogers</td>\n",
       "      <td>Tracy Carey</td>\n",
       "      <td>Cara Touretzky</td>\n",
       "      <td>Saranna Soroka</td>\n",
       "      <td>Annie Geoghan</td>\n",
       "      <td>Tim Balzer</td>\n",
       "      <td>Murd Neel</td>\n",
       "      <td>Savannah Rivers</td>\n",
       "      <td>Michael Cantrambone</td>\n",
       "      <td>Nick Baltaxe</td>\n",
       "      <td>...</td>\n",
       "      <td>Aaron Hoogstraten</td>\n",
       "      <td>Sam Nicholson</td>\n",
       "      <td>Matt Bultman</td>\n",
       "      <td>Hunter Sullivan</td>\n",
       "      <td>Mary Balzer</td>\n",
       "      <td>Chris Donlon</td>\n",
       "      <td>Holly Pattison</td>\n",
       "      <td>Leslie Carothers</td>\n",
       "      <td>Christie Ranges</td>\n",
       "      <td>Ali Pattison</td>\n",
       "    </tr>\n",
       "    <tr>\n",
       "      <th>Guest 3</th>\n",
       "      <td>Brittany Zajic</td>\n",
       "      <td>Sam Ingraffia</td>\n",
       "      <td>Akshay Sriprasad</td>\n",
       "      <td>Astrid Wettstein</td>\n",
       "      <td>Mark Roper</td>\n",
       "      <td>Trish Davis</td>\n",
       "      <td>Bonnie Neel</td>\n",
       "      <td>Jacques Sisteron</td>\n",
       "      <td>Mark Hepburn</td>\n",
       "      <td>Cameron Berkowitz</td>\n",
       "      <td>...</td>\n",
       "      <td>Lauren Friedman</td>\n",
       "      <td>Paul Malandra</td>\n",
       "      <td>Jimmy Harvey</td>\n",
       "      <td>Hannah Rich</td>\n",
       "      <td>Max Balzer</td>\n",
       "      <td>Lauren Nelson</td>\n",
       "      <td>Rick Strauss</td>\n",
       "      <td>Jukka Aromaa</td>\n",
       "      <td>Bill Russell</td>\n",
       "      <td>Ella Pattison</td>\n",
       "    </tr>\n",
       "    <tr>\n",
       "      <th>Guest 4</th>\n",
       "      <td>Ryan Logue</td>\n",
       "      <td>Maggie McGinley</td>\n",
       "      <td>Jeff Thompson</td>\n",
       "      <td>Molly Hamrick</td>\n",
       "      <td>Debbie Roper</td>\n",
       "      <td>John Russell</td>\n",
       "      <td>Judy Bell</td>\n",
       "      <td>Leila Thomas</td>\n",
       "      <td>Toni Hepburn</td>\n",
       "      <td>Kendra Ruth</td>\n",
       "      <td>...</td>\n",
       "      <td>Mekaleya Fekade</td>\n",
       "      <td>Ellen Ahlgren</td>\n",
       "      <td>Danielle Harvey</td>\n",
       "      <td>Eugene Wu</td>\n",
       "      <td>Devon Tucker</td>\n",
       "      <td>Cleo Magill</td>\n",
       "      <td>Laura Strauss</td>\n",
       "      <td>Robby Mazza</td>\n",
       "      <td>Sandy Russell</td>\n",
       "      <td>Mary Pattison</td>\n",
       "    </tr>\n",
       "    <tr>\n",
       "      <th>Guest 5</th>\n",
       "      <td>Oscar Nordness</td>\n",
       "      <td>Rich Lane</td>\n",
       "      <td>Ben Wendel</td>\n",
       "      <td>Morgan Nelson</td>\n",
       "      <td>Caroline Pinkey</td>\n",
       "      <td>Shizu Russell</td>\n",
       "      <td>Ryan Neel</td>\n",
       "      <td>Bardia Soltanzadeh</td>\n",
       "      <td>Tommy Todd</td>\n",
       "      <td>Ryan Mowlds</td>\n",
       "      <td>...</td>\n",
       "      <td>Greg Pitts</td>\n",
       "      <td>Erik Ahlgren</td>\n",
       "      <td>Angelo Morales</td>\n",
       "      <td>Alexis Branagan</td>\n",
       "      <td>Genevieve Geoghan</td>\n",
       "      <td>Jake Sartino</td>\n",
       "      <td>Michael Murphy</td>\n",
       "      <td>John Mazza</td>\n",
       "      <td>Paul Davault</td>\n",
       "      <td>William Pattison</td>\n",
       "    </tr>\n",
       "    <tr>\n",
       "      <th>Guest 6</th>\n",
       "      <td>Ana Parejo</td>\n",
       "      <td>Janet Lane</td>\n",
       "      <td>Julia Senders</td>\n",
       "      <td>Caroline Hearst</td>\n",
       "      <td>Lindsay Coolidge</td>\n",
       "      <td>Nina Russell</td>\n",
       "      <td>Karina Neel</td>\n",
       "      <td>Hamideh Soltanzadeh</td>\n",
       "      <td>Sarah Todd</td>\n",
       "      <td>Addie Neel</td>\n",
       "      <td>...</td>\n",
       "      <td>Alexa Zuniga</td>\n",
       "      <td>Fanny Patriksson</td>\n",
       "      <td>Jen Morales</td>\n",
       "      <td>Pat Ryan</td>\n",
       "      <td>Jake Bottiglieri</td>\n",
       "      <td>Maia Magill</td>\n",
       "      <td>Roxanne Greathouse</td>\n",
       "      <td>Donna D'Anastasio</td>\n",
       "      <td>MC Davault</td>\n",
       "      <td>Daryl Bammerlin</td>\n",
       "    </tr>\n",
       "    <tr>\n",
       "      <th>Guest 7</th>\n",
       "      <td>Sam Waring</td>\n",
       "      <td>Gail Olson</td>\n",
       "      <td>Sean Kennedy</td>\n",
       "      <td>Conor Fitzpatrick</td>\n",
       "      <td>Charlie Coolidge</td>\n",
       "      <td>Anneli Ahlgren</td>\n",
       "      <td>Erik Bell</td>\n",
       "      <td>Gabe Rodriguez</td>\n",
       "      <td>Cody Vild</td>\n",
       "      <td>Ryan Hurley</td>\n",
       "      <td>...</td>\n",
       "      <td>Cristina Andrade</td>\n",
       "      <td>Claire Meunier</td>\n",
       "      <td>Sean Martin</td>\n",
       "      <td>NaN</td>\n",
       "      <td>Maggie Dunn</td>\n",
       "      <td>NaN</td>\n",
       "      <td>Suzie Campen</td>\n",
       "      <td>Alice McIntosh</td>\n",
       "      <td>Sean Neel</td>\n",
       "      <td>Molly Bammerlin</td>\n",
       "    </tr>\n",
       "    <tr>\n",
       "      <th>Guest 8</th>\n",
       "      <td>Ryan O'Shea</td>\n",
       "      <td>Bob Olson</td>\n",
       "      <td>Annie Kennedy</td>\n",
       "      <td>Daniel Cohen</td>\n",
       "      <td>Caroline Coolidge</td>\n",
       "      <td>Johan Ahlgren</td>\n",
       "      <td>NaN</td>\n",
       "      <td>Natalie Kanshanchi</td>\n",
       "      <td>Jenny Rauch</td>\n",
       "      <td>NaN</td>\n",
       "      <td>...</td>\n",
       "      <td>Andres Cifuentes</td>\n",
       "      <td>NaN</td>\n",
       "      <td>Nefeli Chondrogianni</td>\n",
       "      <td>NaN</td>\n",
       "      <td>Sloane Fowkes</td>\n",
       "      <td>NaN</td>\n",
       "      <td>Tim Campen</td>\n",
       "      <td>NaN</td>\n",
       "      <td>Jenny Falberg</td>\n",
       "      <td>Olivia Bammerlin</td>\n",
       "    </tr>\n",
       "    <tr>\n",
       "      <th>Guest 9</th>\n",
       "      <td>NaN</td>\n",
       "      <td>NaN</td>\n",
       "      <td>NaN</td>\n",
       "      <td>NaN</td>\n",
       "      <td>NaN</td>\n",
       "      <td>NaN</td>\n",
       "      <td>NaN</td>\n",
       "      <td>NaN</td>\n",
       "      <td>NaN</td>\n",
       "      <td>NaN</td>\n",
       "      <td>...</td>\n",
       "      <td>NaN</td>\n",
       "      <td>NaN</td>\n",
       "      <td>NaN</td>\n",
       "      <td>NaN</td>\n",
       "      <td>NaN</td>\n",
       "      <td>NaN</td>\n",
       "      <td>NaN</td>\n",
       "      <td>NaN</td>\n",
       "      <td>NaN</td>\n",
       "      <td>Harper Bammerlin</td>\n",
       "    </tr>\n",
       "  </tbody>\n",
       "</table>\n",
       "<p>10 rows × 21 columns</p>\n",
       "</div>"
      ],
      "text/plain": [
       "                    t_1             t_10              t_11               t_12  \\\n",
       "Locked              NaN              NaN                 y                NaN   \n",
       "Guest 1     Todd Demler     Gordon Carey       Calvin Tsay  Austin Giangeruso   \n",
       "Guest 2    James Rogers      Tracy Carey    Cara Touretzky     Saranna Soroka   \n",
       "Guest 3  Brittany Zajic    Sam Ingraffia  Akshay Sriprasad   Astrid Wettstein   \n",
       "Guest 4      Ryan Logue  Maggie McGinley     Jeff Thompson      Molly Hamrick   \n",
       "Guest 5  Oscar Nordness        Rich Lane        Ben Wendel      Morgan Nelson   \n",
       "Guest 6      Ana Parejo       Janet Lane     Julia Senders    Caroline Hearst   \n",
       "Guest 7      Sam Waring       Gail Olson      Sean Kennedy  Conor Fitzpatrick   \n",
       "Guest 8     Ryan O'Shea        Bob Olson     Annie Kennedy       Daniel Cohen   \n",
       "Guest 9             NaN              NaN               NaN                NaN   \n",
       "\n",
       "                      t_13             t_14         t_15                 t_16  \\\n",
       "Locked                 NaN                y          NaN                    y   \n",
       "Guest 1        Jim Geoghan  Kathryn Russell   Brett Bell        Matt Gaudioso   \n",
       "Guest 2      Annie Geoghan       Tim Balzer    Murd Neel      Savannah Rivers   \n",
       "Guest 3         Mark Roper      Trish Davis  Bonnie Neel     Jacques Sisteron   \n",
       "Guest 4       Debbie Roper     John Russell    Judy Bell         Leila Thomas   \n",
       "Guest 5    Caroline Pinkey    Shizu Russell    Ryan Neel   Bardia Soltanzadeh   \n",
       "Guest 6   Lindsay Coolidge     Nina Russell  Karina Neel  Hamideh Soltanzadeh   \n",
       "Guest 7   Charlie Coolidge   Anneli Ahlgren    Erik Bell       Gabe Rodriguez   \n",
       "Guest 8  Caroline Coolidge    Johan Ahlgren          NaN   Natalie Kanshanchi   \n",
       "Guest 9                NaN              NaN          NaN                  NaN   \n",
       "\n",
       "                        t_17               t_18  ...                t_2  \\\n",
       "Locked                   NaN                NaN  ...                NaN   \n",
       "Guest 1      Megan Kesselman        Troy Nguyen  ...       Jillian Fong   \n",
       "Guest 2  Michael Cantrambone       Nick Baltaxe  ...  Aaron Hoogstraten   \n",
       "Guest 3         Mark Hepburn  Cameron Berkowitz  ...    Lauren Friedman   \n",
       "Guest 4         Toni Hepburn        Kendra Ruth  ...    Mekaleya Fekade   \n",
       "Guest 5           Tommy Todd        Ryan Mowlds  ...         Greg Pitts   \n",
       "Guest 6           Sarah Todd         Addie Neel  ...       Alexa Zuniga   \n",
       "Guest 7            Cody Vild        Ryan Hurley  ...   Cristina Andrade   \n",
       "Guest 8          Jenny Rauch                NaN  ...   Andres Cifuentes   \n",
       "Guest 9                  NaN                NaN  ...                NaN   \n",
       "\n",
       "                     t_20                  t_21               t_3  \\\n",
       "Locked                NaN                   NaN               NaN   \n",
       "Guest 1    Abby Nicholson          Tori Bultman  Mallory Chandler   \n",
       "Guest 2     Sam Nicholson          Matt Bultman   Hunter Sullivan   \n",
       "Guest 3     Paul Malandra          Jimmy Harvey       Hannah Rich   \n",
       "Guest 4     Ellen Ahlgren       Danielle Harvey         Eugene Wu   \n",
       "Guest 5      Erik Ahlgren        Angelo Morales   Alexis Branagan   \n",
       "Guest 6  Fanny Patriksson           Jen Morales          Pat Ryan   \n",
       "Guest 7    Claire Meunier           Sean Martin               NaN   \n",
       "Guest 8               NaN  Nefeli Chondrogianni               NaN   \n",
       "Guest 9               NaN                   NaN               NaN   \n",
       "\n",
       "                       t_4            t_5                 t_6  \\\n",
       "Locked                 NaN            NaN                   y   \n",
       "Guest 1   Richard Pattison  Kaitlin Olson      Wally Pattison   \n",
       "Guest 2        Mary Balzer   Chris Donlon      Holly Pattison   \n",
       "Guest 3         Max Balzer  Lauren Nelson        Rick Strauss   \n",
       "Guest 4       Devon Tucker    Cleo Magill       Laura Strauss   \n",
       "Guest 5  Genevieve Geoghan   Jake Sartino      Michael Murphy   \n",
       "Guest 6   Jake Bottiglieri    Maia Magill  Roxanne Greathouse   \n",
       "Guest 7        Maggie Dunn            NaN        Suzie Campen   \n",
       "Guest 8      Sloane Fowkes            NaN          Tim Campen   \n",
       "Guest 9                NaN            NaN                 NaN   \n",
       "\n",
       "                       t_7                  t_8               t_9  \n",
       "Locked                 NaN                  NaN                 y  \n",
       "Guest 1         Flo Fowkes  Mary Grace Pattison      Mac Pattison  \n",
       "Guest 2   Leslie Carothers      Christie Ranges      Ali Pattison  \n",
       "Guest 3       Jukka Aromaa         Bill Russell     Ella Pattison  \n",
       "Guest 4        Robby Mazza        Sandy Russell     Mary Pattison  \n",
       "Guest 5         John Mazza         Paul Davault  William Pattison  \n",
       "Guest 6  Donna D'Anastasio           MC Davault   Daryl Bammerlin  \n",
       "Guest 7     Alice McIntosh            Sean Neel   Molly Bammerlin  \n",
       "Guest 8                NaN        Jenny Falberg  Olivia Bammerlin  \n",
       "Guest 9                NaN                  NaN  Harper Bammerlin  \n",
       "\n",
       "[10 rows x 21 columns]"
      ]
     },
     "execution_count": 17,
     "metadata": {},
     "output_type": "execute_result"
    }
   ],
   "source": [
    "seating_assignments"
   ]
  },
  {
   "cell_type": "code",
   "execution_count": 18,
   "metadata": {},
   "outputs": [],
   "source": [
    "df_solution = SeatingModel.make_df_solution_from_seating_chart(seating_assignments)"
   ]
  },
  {
   "cell_type": "code",
   "execution_count": 23,
   "metadata": {},
   "outputs": [
    {
     "name": "stdout",
     "output_type": "stream",
     "text": [
      "n_tables: 20, extra_seats: 1\n"
     ]
    }
   ],
   "source": [
    "model = SeatingModel(df_solution, age_difference_penalty=0.08, base_score=0)"
   ]
  },
  {
   "cell_type": "code",
   "execution_count": 24,
   "metadata": {},
   "outputs": [],
   "source": [
    "model.tables = {t: (0, 8) for t in model.tables}\n",
    "model.tables['t_9'] = (0, 9)"
   ]
  },
  {
   "cell_type": "code",
   "execution_count": 25,
   "metadata": {},
   "outputs": [
    {
     "name": "stderr",
     "output_type": "stream",
     "text": [
      "100%|██████████| 161/161 [00:14<00:00, 10.78it/s]\n"
     ]
    }
   ],
   "source": [
    "model.create_model()"
   ]
  },
  {
   "cell_type": "code",
   "execution_count": 26,
   "metadata": {},
   "outputs": [],
   "source": [
    "model.write_model('seating_model_v12', include_start=True)"
   ]
  },
  {
   "cell_type": "code",
   "execution_count": 3,
   "metadata": {},
   "outputs": [
    {
     "name": "stdout",
     "output_type": "stream",
     "text": [
      "n_tables: 22, extra_seats: 1\n"
     ]
    }
   ],
   "source": [
    "model = SeatingModel(age_difference_penalty=0.08, extra_tables=2)"
   ]
  },
  {
   "cell_type": "code",
   "execution_count": 4,
   "metadata": {},
   "outputs": [],
   "source": [
    "model.tables['t_1'] = (7, 9)"
   ]
  },
  {
   "cell_type": "code",
   "execution_count": 5,
   "metadata": {},
   "outputs": [
    {
     "name": "stdout",
     "output_type": "stream",
     "text": [
      "Restricted license - for non-production use only - expires 2023-10-25\n"
     ]
    },
    {
     "name": "stderr",
     "output_type": "stream",
     "text": [
      "100%|██████████| 161/161 [00:13<00:00, 11.96it/s]\n"
     ]
    }
   ],
   "source": [
    "model.create_model()"
   ]
  },
  {
   "cell_type": "code",
   "execution_count": 6,
   "metadata": {},
   "outputs": [],
   "source": [
    "model.write_model('seating_model_v11', include_start=False)"
   ]
  },
  {
   "cell_type": "code",
   "execution_count": null,
   "metadata": {},
   "outputs": [],
   "source": []
  }
 ],
 "metadata": {
  "kernelspec": {
   "display_name": "Python 3.7.12 ('wedding_prep')",
   "language": "python",
   "name": "python3"
  },
  "language_info": {
   "codemirror_mode": {
    "name": "ipython",
    "version": 3
   },
   "file_extension": ".py",
   "mimetype": "text/x-python",
   "name": "python",
   "nbconvert_exporter": "python",
   "pygments_lexer": "ipython3",
   "version": "3.7.12"
  },
  "orig_nbformat": 4,
  "vscode": {
   "interpreter": {
    "hash": "64786bbea6f7c64f9948135990e173c50afe9407baddc37c36f9ba46381ebb87"
   }
  }
 },
 "nbformat": 4,
 "nbformat_minor": 2
}
