{
 "cells": [
  {
   "cell_type": "code",
   "execution_count": 2,
   "metadata": {},
   "outputs": [],
   "source": [
    "import pandas as pd\n",
    "from apeelx_wedding_prep.analyses.seating_model import SeatingModel"
   ]
  },
  {
   "cell_type": "code",
   "execution_count": 2,
   "metadata": {},
   "outputs": [
    {
     "name": "stdout",
     "output_type": "stream",
     "text": [
      "n_tables: 20, extra_seats: 0\n"
     ]
    }
   ],
   "source": [
    "seating_model = SeatingModel.read_solution_file('../models/solutions/seating_model13.sol')"
   ]
  },
  {
   "cell_type": "code",
   "execution_count": null,
   "metadata": {},
   "outputs": [],
   "source": [
    "seating_model.create_model()"
   ]
  },
  {
   "cell_type": "code",
   "execution_count": null,
   "metadata": {},
   "outputs": [],
   "source": [
    "seating_model.write_model('seating_model_test', include_start=True)"
   ]
  },
  {
   "cell_type": "code",
   "execution_count": 27,
   "metadata": {},
   "outputs": [],
   "source": [
    "seating_chart = SeatingModel.process_solution('../models/solutions/seating_model30.sol')"
   ]
  },
  {
   "cell_type": "code",
   "execution_count": 28,
   "metadata": {},
   "outputs": [],
   "source": [
    "seating_chart.to_csv('../data/transformed/seating_assignments_30.csv')"
   ]
  },
  {
   "cell_type": "code",
   "execution_count": 3,
   "metadata": {},
   "outputs": [],
   "source": [
    "seating_assignments = pd.read_csv('../data/transformed/seating_assignments_31.csv', index_col=0)"
   ]
  },
  {
   "cell_type": "code",
   "execution_count": 3,
   "metadata": {},
   "outputs": [],
   "source": [
    "seating_assignments.to_html('../../seating_assignments.html')"
   ]
  },
  {
   "cell_type": "code",
   "execution_count": 4,
   "metadata": {},
   "outputs": [
    {
     "data": {
      "text/html": [
       "<div>\n",
       "<style scoped>\n",
       "    .dataframe tbody tr th:only-of-type {\n",
       "        vertical-align: middle;\n",
       "    }\n",
       "\n",
       "    .dataframe tbody tr th {\n",
       "        vertical-align: top;\n",
       "    }\n",
       "\n",
       "    .dataframe thead th {\n",
       "        text-align: right;\n",
       "    }\n",
       "</style>\n",
       "<table border=\"1\" class=\"dataframe\">\n",
       "  <thead>\n",
       "    <tr style=\"text-align: right;\">\n",
       "      <th></th>\n",
       "      <th>t_1</th>\n",
       "      <th>t_10</th>\n",
       "      <th>t_11</th>\n",
       "      <th>t_12</th>\n",
       "      <th>t_13</th>\n",
       "      <th>t_14</th>\n",
       "      <th>t_15</th>\n",
       "      <th>t_16</th>\n",
       "      <th>t_17</th>\n",
       "      <th>t_18</th>\n",
       "      <th>t_19</th>\n",
       "      <th>t_2</th>\n",
       "      <th>t_3</th>\n",
       "      <th>t_4</th>\n",
       "      <th>t_5</th>\n",
       "      <th>t_6</th>\n",
       "      <th>t_7</th>\n",
       "      <th>t_8</th>\n",
       "      <th>t_9</th>\n",
       "    </tr>\n",
       "  </thead>\n",
       "  <tbody>\n",
       "    <tr>\n",
       "      <th>Locked</th>\n",
       "      <td>NaN</td>\n",
       "      <td>y</td>\n",
       "      <td>y</td>\n",
       "      <td>y</td>\n",
       "      <td>y</td>\n",
       "      <td>NaN</td>\n",
       "      <td>NaN</td>\n",
       "      <td>y</td>\n",
       "      <td>y</td>\n",
       "      <td>y</td>\n",
       "      <td>y</td>\n",
       "      <td>y</td>\n",
       "      <td>y</td>\n",
       "      <td>y</td>\n",
       "      <td>NaN</td>\n",
       "      <td>y</td>\n",
       "      <td>y</td>\n",
       "      <td>y</td>\n",
       "      <td>y</td>\n",
       "    </tr>\n",
       "    <tr>\n",
       "      <th>Guest 1</th>\n",
       "      <td>Pat Pattison</td>\n",
       "      <td>Jillian Fong</td>\n",
       "      <td>Jim Geoghan</td>\n",
       "      <td>Hannah Rich</td>\n",
       "      <td>Abby Nicholson</td>\n",
       "      <td>Mary Grace Pattison</td>\n",
       "      <td>Wally Pattison</td>\n",
       "      <td>Austin Giangeruso</td>\n",
       "      <td>Kathryn Russell</td>\n",
       "      <td>Tori Iannuzzi</td>\n",
       "      <td>Rich Lane</td>\n",
       "      <td>Matt Gaudioso</td>\n",
       "      <td>Calvin Tsay</td>\n",
       "      <td>Bill Russell</td>\n",
       "      <td>Richard Pattison</td>\n",
       "      <td>Ryan Neel</td>\n",
       "      <td>Mark Hepburn</td>\n",
       "      <td>Todd Demler</td>\n",
       "      <td>Troy Nguyen</td>\n",
       "    </tr>\n",
       "    <tr>\n",
       "      <th>Guest 2</th>\n",
       "      <td>Marie Pattison</td>\n",
       "      <td>Aaron Hoogstraten</td>\n",
       "      <td>Annie Geoghan</td>\n",
       "      <td>Eugene Wu</td>\n",
       "      <td>Sam Nicholson</td>\n",
       "      <td>Sara Forsyth</td>\n",
       "      <td>Holly Pattison</td>\n",
       "      <td>Saranna Soroka</td>\n",
       "      <td>Tim Balzer</td>\n",
       "      <td>Matt Bultman</td>\n",
       "      <td>Janet Lane</td>\n",
       "      <td>Savannah Rivers</td>\n",
       "      <td>Cara Touretzky</td>\n",
       "      <td>Sandy Russell</td>\n",
       "      <td>Mary Balzer</td>\n",
       "      <td>Karina Neel</td>\n",
       "      <td>Toni Hepburn</td>\n",
       "      <td>James Rogers</td>\n",
       "      <td>Lauren Friedman</td>\n",
       "    </tr>\n",
       "    <tr>\n",
       "      <th>Guest 3</th>\n",
       "      <td>Pat Jr. Pattison</td>\n",
       "      <td>Sloane Fowkes</td>\n",
       "      <td>Mark Roper</td>\n",
       "      <td>Sean Kennedy</td>\n",
       "      <td>Paul Malandra</td>\n",
       "      <td>John Forsyth</td>\n",
       "      <td>Michael Murphy</td>\n",
       "      <td>Alexis Branagan</td>\n",
       "      <td>John Russell</td>\n",
       "      <td>Megan Kesselman</td>\n",
       "      <td>Robby Mazza</td>\n",
       "      <td>Jacques Sisteron</td>\n",
       "      <td>Akshay Sriprasad</td>\n",
       "      <td>Gordon Carey</td>\n",
       "      <td>Max Balzer</td>\n",
       "      <td>Erik Bell</td>\n",
       "      <td>Tommy Todd</td>\n",
       "      <td>Brittany Zajic</td>\n",
       "      <td>Nick Baltaxe</td>\n",
       "    </tr>\n",
       "    <tr>\n",
       "      <th>Guest 4</th>\n",
       "      <td>Morgan Pattison</td>\n",
       "      <td>Mekaleya Fekade</td>\n",
       "      <td>Debbie Roper</td>\n",
       "      <td>Annie Kennedy</td>\n",
       "      <td>Astrid Wettstein</td>\n",
       "      <td>Andrew Campen</td>\n",
       "      <td>Roxanne Greathouse</td>\n",
       "      <td>Pat Ryan</td>\n",
       "      <td>Shizu Russell</td>\n",
       "      <td>Michael Cantrambone</td>\n",
       "      <td>John Mazza</td>\n",
       "      <td>Leila Thomas</td>\n",
       "      <td>Oscar Nordness</td>\n",
       "      <td>Tracy Carey</td>\n",
       "      <td>Devon Tucker</td>\n",
       "      <td>Sean Neel</td>\n",
       "      <td>Sarah Todd</td>\n",
       "      <td>Cody Vild</td>\n",
       "      <td>Cameron Berkowitz</td>\n",
       "    </tr>\n",
       "    <tr>\n",
       "      <th>Guest 5</th>\n",
       "      <td>Daryl Bammerlin</td>\n",
       "      <td>Kendra Ruth</td>\n",
       "      <td>Caroline Pinkey</td>\n",
       "      <td>Greg Pitts</td>\n",
       "      <td>Molly Hamrick</td>\n",
       "      <td>Mary Campen</td>\n",
       "      <td>Rick Strauss</td>\n",
       "      <td>Morgan Nelson</td>\n",
       "      <td>Johan Ahlgren</td>\n",
       "      <td>Cristina Andrade</td>\n",
       "      <td>Lindsay Coolidge</td>\n",
       "      <td>Bardia Soltanzadeh</td>\n",
       "      <td>Ana Parejo</td>\n",
       "      <td>Sam Ingraffia</td>\n",
       "      <td>Genevieve Geoghan</td>\n",
       "      <td>Jenny Falberg</td>\n",
       "      <td>Jimmy Harvey</td>\n",
       "      <td>Jenny Rauch</td>\n",
       "      <td>Mallory Chandler</td>\n",
       "    </tr>\n",
       "    <tr>\n",
       "      <th>Guest 6</th>\n",
       "      <td>Molly Bammerlin</td>\n",
       "      <td>Ryan Mowlds</td>\n",
       "      <td>Leslie Carothers</td>\n",
       "      <td>Alexa Zuniga</td>\n",
       "      <td>Ellen Ahlgren</td>\n",
       "      <td>Christie Ranges</td>\n",
       "      <td>Laura Strauss</td>\n",
       "      <td>Caroline Hearst</td>\n",
       "      <td>Anneli Ahlgren</td>\n",
       "      <td>Andres Cifuentes</td>\n",
       "      <td>Charlie Coolidge</td>\n",
       "      <td>Hamideh Soltanzadeh</td>\n",
       "      <td>Sam Waring</td>\n",
       "      <td>Maggie McGinley</td>\n",
       "      <td>Jake Bottiglieri</td>\n",
       "      <td>Murd Neel</td>\n",
       "      <td>Danielle Harvey</td>\n",
       "      <td>Ryan Logue</td>\n",
       "      <td>Hunter Sullivan</td>\n",
       "    </tr>\n",
       "    <tr>\n",
       "      <th>Guest 7</th>\n",
       "      <td>Olivia Bammerlin</td>\n",
       "      <td>Kaitlin Olson</td>\n",
       "      <td>Jukka Aromaa</td>\n",
       "      <td>Sean Martin</td>\n",
       "      <td>Erik Ahlgren</td>\n",
       "      <td>Suzie Campen</td>\n",
       "      <td>Ella Pattison</td>\n",
       "      <td>Conor Fitzpatrick</td>\n",
       "      <td>Trish Davis</td>\n",
       "      <td>Cleo Magill</td>\n",
       "      <td>Gail Olson</td>\n",
       "      <td>Gabe Rodriguez</td>\n",
       "      <td>Jeff Thompson</td>\n",
       "      <td>MC Davault</td>\n",
       "      <td>Maggie Dunn</td>\n",
       "      <td>Bonnie Neel</td>\n",
       "      <td>Angelo Morales</td>\n",
       "      <td>Ryan O'Shea</td>\n",
       "      <td>Addie Neel</td>\n",
       "    </tr>\n",
       "    <tr>\n",
       "      <th>Guest 8</th>\n",
       "      <td>Harper Bammerlin</td>\n",
       "      <td>Claire Meunier</td>\n",
       "      <td>Donna D'Anastasio</td>\n",
       "      <td>Nefeli Chondrogianni</td>\n",
       "      <td>Fanny Patriksson</td>\n",
       "      <td>Tim Campen</td>\n",
       "      <td>Mary Pattison</td>\n",
       "      <td>Daniel Cohen</td>\n",
       "      <td>Nina Russell</td>\n",
       "      <td>Jake Sartino</td>\n",
       "      <td>Bob Olson</td>\n",
       "      <td>Natalie Kanshanchi</td>\n",
       "      <td>Ben Wendel</td>\n",
       "      <td>Paul Davault</td>\n",
       "      <td>Mac Pattison</td>\n",
       "      <td>Judy Bell</td>\n",
       "      <td>Jen Morales</td>\n",
       "      <td>Chris Donlon</td>\n",
       "      <td>Ryan Hurley</td>\n",
       "    </tr>\n",
       "    <tr>\n",
       "      <th>Guest 9</th>\n",
       "      <td>NaN</td>\n",
       "      <td>NaN</td>\n",
       "      <td>Alice McIntosh</td>\n",
       "      <td>NaN</td>\n",
       "      <td>NaN</td>\n",
       "      <td>NaN</td>\n",
       "      <td>NaN</td>\n",
       "      <td>NaN</td>\n",
       "      <td>NaN</td>\n",
       "      <td>Maia Magill</td>\n",
       "      <td>Flo Fowkes</td>\n",
       "      <td>NaN</td>\n",
       "      <td>Julia Senders</td>\n",
       "      <td>NaN</td>\n",
       "      <td>Ali Pattison</td>\n",
       "      <td>Brett Bell</td>\n",
       "      <td>NaN</td>\n",
       "      <td>Lauren Nelson</td>\n",
       "      <td>Caroline Coolidge</td>\n",
       "    </tr>\n",
       "    <tr>\n",
       "      <th>Guest 10</th>\n",
       "      <td>NaN</td>\n",
       "      <td>NaN</td>\n",
       "      <td>NaN</td>\n",
       "      <td>NaN</td>\n",
       "      <td>NaN</td>\n",
       "      <td>NaN</td>\n",
       "      <td>NaN</td>\n",
       "      <td>NaN</td>\n",
       "      <td>NaN</td>\n",
       "      <td>NaN</td>\n",
       "      <td>NaN</td>\n",
       "      <td>NaN</td>\n",
       "      <td>NaN</td>\n",
       "      <td>NaN</td>\n",
       "      <td>William Pattison</td>\n",
       "      <td>NaN</td>\n",
       "      <td>NaN</td>\n",
       "      <td>NaN</td>\n",
       "      <td>NaN</td>\n",
       "    </tr>\n",
       "  </tbody>\n",
       "</table>\n",
       "</div>"
      ],
      "text/plain": [
       "                       t_1               t_10               t_11  \\\n",
       "Locked                 NaN                  y                  y   \n",
       "Guest 1       Pat Pattison       Jillian Fong        Jim Geoghan   \n",
       "Guest 2     Marie Pattison  Aaron Hoogstraten      Annie Geoghan   \n",
       "Guest 3   Pat Jr. Pattison      Sloane Fowkes         Mark Roper   \n",
       "Guest 4    Morgan Pattison    Mekaleya Fekade       Debbie Roper   \n",
       "Guest 5    Daryl Bammerlin        Kendra Ruth    Caroline Pinkey   \n",
       "Guest 6    Molly Bammerlin        Ryan Mowlds   Leslie Carothers   \n",
       "Guest 7   Olivia Bammerlin      Kaitlin Olson       Jukka Aromaa   \n",
       "Guest 8   Harper Bammerlin     Claire Meunier  Donna D'Anastasio   \n",
       "Guest 9                NaN                NaN     Alice McIntosh   \n",
       "Guest 10               NaN                NaN                NaN   \n",
       "\n",
       "                          t_12              t_13                 t_14  \\\n",
       "Locked                       y                 y                  NaN   \n",
       "Guest 1            Hannah Rich    Abby Nicholson  Mary Grace Pattison   \n",
       "Guest 2              Eugene Wu     Sam Nicholson         Sara Forsyth   \n",
       "Guest 3           Sean Kennedy     Paul Malandra         John Forsyth   \n",
       "Guest 4          Annie Kennedy  Astrid Wettstein        Andrew Campen   \n",
       "Guest 5             Greg Pitts     Molly Hamrick          Mary Campen   \n",
       "Guest 6           Alexa Zuniga     Ellen Ahlgren      Christie Ranges   \n",
       "Guest 7            Sean Martin      Erik Ahlgren         Suzie Campen   \n",
       "Guest 8   Nefeli Chondrogianni  Fanny Patriksson           Tim Campen   \n",
       "Guest 9                    NaN               NaN                  NaN   \n",
       "Guest 10                   NaN               NaN                  NaN   \n",
       "\n",
       "                        t_15               t_16             t_17  \\\n",
       "Locked                   NaN                  y                y   \n",
       "Guest 1       Wally Pattison  Austin Giangeruso  Kathryn Russell   \n",
       "Guest 2       Holly Pattison     Saranna Soroka       Tim Balzer   \n",
       "Guest 3       Michael Murphy    Alexis Branagan     John Russell   \n",
       "Guest 4   Roxanne Greathouse           Pat Ryan    Shizu Russell   \n",
       "Guest 5         Rick Strauss      Morgan Nelson    Johan Ahlgren   \n",
       "Guest 6        Laura Strauss    Caroline Hearst   Anneli Ahlgren   \n",
       "Guest 7        Ella Pattison  Conor Fitzpatrick      Trish Davis   \n",
       "Guest 8        Mary Pattison       Daniel Cohen     Nina Russell   \n",
       "Guest 9                  NaN                NaN              NaN   \n",
       "Guest 10                 NaN                NaN              NaN   \n",
       "\n",
       "                         t_18              t_19                  t_2  \\\n",
       "Locked                      y                 y                    y   \n",
       "Guest 1         Tori Iannuzzi         Rich Lane        Matt Gaudioso   \n",
       "Guest 2          Matt Bultman        Janet Lane      Savannah Rivers   \n",
       "Guest 3       Megan Kesselman       Robby Mazza     Jacques Sisteron   \n",
       "Guest 4   Michael Cantrambone        John Mazza         Leila Thomas   \n",
       "Guest 5      Cristina Andrade  Lindsay Coolidge   Bardia Soltanzadeh   \n",
       "Guest 6      Andres Cifuentes  Charlie Coolidge  Hamideh Soltanzadeh   \n",
       "Guest 7           Cleo Magill        Gail Olson       Gabe Rodriguez   \n",
       "Guest 8          Jake Sartino         Bob Olson   Natalie Kanshanchi   \n",
       "Guest 9           Maia Magill        Flo Fowkes                  NaN   \n",
       "Guest 10                  NaN               NaN                  NaN   \n",
       "\n",
       "                       t_3              t_4                t_5            t_6  \\\n",
       "Locked                   y                y                NaN              y   \n",
       "Guest 1        Calvin Tsay     Bill Russell   Richard Pattison      Ryan Neel   \n",
       "Guest 2     Cara Touretzky    Sandy Russell        Mary Balzer    Karina Neel   \n",
       "Guest 3   Akshay Sriprasad     Gordon Carey         Max Balzer      Erik Bell   \n",
       "Guest 4     Oscar Nordness      Tracy Carey       Devon Tucker      Sean Neel   \n",
       "Guest 5         Ana Parejo    Sam Ingraffia  Genevieve Geoghan  Jenny Falberg   \n",
       "Guest 6         Sam Waring  Maggie McGinley   Jake Bottiglieri      Murd Neel   \n",
       "Guest 7      Jeff Thompson       MC Davault        Maggie Dunn    Bonnie Neel   \n",
       "Guest 8         Ben Wendel     Paul Davault       Mac Pattison      Judy Bell   \n",
       "Guest 9      Julia Senders              NaN       Ali Pattison     Brett Bell   \n",
       "Guest 10               NaN              NaN   William Pattison            NaN   \n",
       "\n",
       "                      t_7             t_8                t_9  \n",
       "Locked                  y               y                  y  \n",
       "Guest 1      Mark Hepburn     Todd Demler        Troy Nguyen  \n",
       "Guest 2      Toni Hepburn    James Rogers    Lauren Friedman  \n",
       "Guest 3        Tommy Todd  Brittany Zajic       Nick Baltaxe  \n",
       "Guest 4        Sarah Todd       Cody Vild  Cameron Berkowitz  \n",
       "Guest 5      Jimmy Harvey     Jenny Rauch   Mallory Chandler  \n",
       "Guest 6   Danielle Harvey      Ryan Logue    Hunter Sullivan  \n",
       "Guest 7    Angelo Morales     Ryan O'Shea         Addie Neel  \n",
       "Guest 8       Jen Morales    Chris Donlon        Ryan Hurley  \n",
       "Guest 9               NaN   Lauren Nelson  Caroline Coolidge  \n",
       "Guest 10              NaN             NaN                NaN  "
      ]
     },
     "execution_count": 4,
     "metadata": {},
     "output_type": "execute_result"
    }
   ],
   "source": [
    "seating_assignments"
   ]
  },
  {
   "cell_type": "code",
   "execution_count": 18,
   "metadata": {},
   "outputs": [],
   "source": [
    "df_solution = SeatingModel.make_df_solution_from_seating_chart(seating_assignments)"
   ]
  },
  {
   "cell_type": "code",
   "execution_count": 23,
   "metadata": {},
   "outputs": [
    {
     "name": "stdout",
     "output_type": "stream",
     "text": [
      "n_tables: 20, extra_seats: 1\n"
     ]
    }
   ],
   "source": [
    "model = SeatingModel(df_solution, age_difference_penalty=0.08, base_score=0)"
   ]
  },
  {
   "cell_type": "code",
   "execution_count": 24,
   "metadata": {},
   "outputs": [],
   "source": [
    "model.tables = {t: (0, 8) for t in model.tables}\n",
    "model.tables['t_9'] = (0, 9)"
   ]
  },
  {
   "cell_type": "code",
   "execution_count": 25,
   "metadata": {},
   "outputs": [
    {
     "name": "stderr",
     "output_type": "stream",
     "text": [
      "100%|██████████| 161/161 [00:14<00:00, 10.78it/s]\n"
     ]
    }
   ],
   "source": [
    "model.create_model()"
   ]
  },
  {
   "cell_type": "code",
   "execution_count": 26,
   "metadata": {},
   "outputs": [],
   "source": [
    "model.write_model('seating_model_v12', include_start=True)"
   ]
  },
  {
   "cell_type": "code",
   "execution_count": 3,
   "metadata": {},
   "outputs": [
    {
     "name": "stdout",
     "output_type": "stream",
     "text": [
      "n_tables: 22, extra_seats: 1\n"
     ]
    }
   ],
   "source": [
    "model = SeatingModel(age_difference_penalty=0.08, extra_tables=2)"
   ]
  },
  {
   "cell_type": "code",
   "execution_count": 4,
   "metadata": {},
   "outputs": [],
   "source": [
    "model.tables['t_1'] = (7, 9)"
   ]
  },
  {
   "cell_type": "code",
   "execution_count": 5,
   "metadata": {},
   "outputs": [
    {
     "name": "stdout",
     "output_type": "stream",
     "text": [
      "Restricted license - for non-production use only - expires 2023-10-25\n"
     ]
    },
    {
     "name": "stderr",
     "output_type": "stream",
     "text": [
      "100%|██████████| 161/161 [00:13<00:00, 11.96it/s]\n"
     ]
    }
   ],
   "source": [
    "model.create_model()"
   ]
  },
  {
   "cell_type": "code",
   "execution_count": 6,
   "metadata": {},
   "outputs": [],
   "source": [
    "model.write_model('seating_model_v11', include_start=False)"
   ]
  },
  {
   "cell_type": "code",
   "execution_count": null,
   "metadata": {},
   "outputs": [],
   "source": []
  }
 ],
 "metadata": {
  "kernelspec": {
   "display_name": "Python 3.7.12 ('wedding_prep')",
   "language": "python",
   "name": "python3"
  },
  "language_info": {
   "codemirror_mode": {
    "name": "ipython",
    "version": 3
   },
   "file_extension": ".py",
   "mimetype": "text/x-python",
   "name": "python",
   "nbconvert_exporter": "python",
   "pygments_lexer": "ipython3",
   "version": "3.7.12"
  },
  "orig_nbformat": 4,
  "vscode": {
   "interpreter": {
    "hash": "64786bbea6f7c64f9948135990e173c50afe9407baddc37c36f9ba46381ebb87"
   }
  }
 },
 "nbformat": 4,
 "nbformat_minor": 2
}
